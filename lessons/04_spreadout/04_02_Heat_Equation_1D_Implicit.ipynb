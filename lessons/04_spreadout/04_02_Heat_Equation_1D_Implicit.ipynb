{
 "cells": [
  {
   "cell_type": "markdown",
   "metadata": {},
   "source": [
    "###### Content under Creative Commons Attribution license CC-BY 4.0, code under MIT license (c)2014 L.A. Barba, C.D. Cooper, G.F. Forsyth."
   ]
  },
  {
   "cell_type": "markdown",
   "metadata": {},
   "source": [
    "# Spreading out"
   ]
  },
  {
   "cell_type": "markdown",
   "metadata": {},
   "source": [
    "Welcome to the second lesson of the course module: \"_Spreading out: parabolic PDEs.\"_ We're studying the heat equation in one spatial dimension:\n",
    "\n",
    "$$\n",
    "\\begin{equation}\n",
    "\\frac{\\partial T}{\\partial t} = \\alpha \\frac{\\partial^2 T}{\\partial x^2}\n",
    "\\end{equation}\n",
    "$$\n",
    "\n",
    "where $\\alpha$ is the thermal diffusivity and $T$ is the temperature.\n",
    "\n",
    "In the previous lesson, we reviewed the numerical solution of the 1D diffusion equation with a forward-time, centered-space scheme: an _explicit_ scheme. What does that mean?  \n",
    "\n",
    "The solution for $T$ at time step $t^{n+1}$ was calculated using different combinations of $T$ values from the *previous* time step $t^n$.  We have complete knowledge of the parts that feed into the solution update at each spatial point.  \n",
    "\n",
    "*Implicit* methods work differently: we will use more data from the \"future\" in the update, including several values of $T$ at $t^{n+1}$. This will make the scheme more difficult to apply, but there are several reasons why it may be worth the effort.\n",
    "\n",
    "In lesson 1, we discussed two disadvantages of explicit methods: (1) boundary effects drag behind by one time step; (2) stability requirements constrain the time-step to very small values. Both of these issues are resolved by implicit schemes."
   ]
  },
  {
   "cell_type": "markdown",
   "metadata": {},
   "source": [
    "## Implicit schemes"
   ]
  },
  {
   "cell_type": "markdown",
   "metadata": {},
   "source": [
    "Let's move things around a bit and try combining the Euler time step with an evaluation of the spatial derivative on the *updated* solution at $t^{n+1}$. The discretized form of the equation is now as follows:\n",
    "\n",
    "$$\n",
    "\\begin{equation}\n",
    "\\frac{T_{i}^{n+1}-T_{i}^{n}}{\\Delta t}=\\alpha\\frac{T_{i+1}^{n+1}-2T_{i}^{n+1}+T_{i-1}^{n+1}}{\\Delta x^2}\n",
    "\\end{equation}\n",
    "$$\n",
    "\n",
    "The stencil for this discretization doesn't look anything like the other stencils we've used until now. Check it out."
   ]
  },
  {
   "cell_type": "markdown",
   "metadata": {},
   "source": [
    "![stencil-implicitcentral](./figures/stencil-implicitcentral.png)\n",
    ".\n",
    "#### Figure 1. Stencil of the implicit central scheme."
   ]
  },
  {
   "cell_type": "markdown",
   "metadata": {},
   "source": [
    "From the previous time-step, we only know $T_i^{n}$, but what about $T_i^{n+1}$, $T_{i-1}^{n+1}$ and $T_{i+1}^{n+1}$?  What can we do?\n",
    "\n",
    "No need to panic! Let's start by putting what we *do know* on the right-hand side of the equation and what we *don't know* on the left. We get:\n",
    "\n",
    "$$\n",
    "\\begin{equation}\n",
    "-T_{i-1}^{n+1} + \\left( 2 + \\frac{\\Delta x^2}{\\alpha\\Delta t}\\right) T_{i}^{n+1} - T_{i+1}^{n+1} = T_{i}^{n}\\frac{\\Delta x^2}{\\alpha\\Delta t}\n",
    "\\end{equation}\n",
    "$$\n",
    "\n",
    "It looks like there are a lot of unknowns and just one equation! \n",
    "\n",
    "What does it look like with $i=1$?\n",
    "\n",
    "$$\n",
    "\\begin{equation}\n",
    "-T_{0}^{n+1} + \\left( 2 + \\frac{\\Delta x^2}{\\alpha\\Delta t}\\right) T_{1}^{n+1} - T_{2}^{n+1} = T_{1}^{n}\\frac{\\Delta x^2}{\\alpha\\Delta t}\n",
    "\\end{equation}\n",
    "$$\n",
    "\n",
    "and $i=2$?\n",
    "\n",
    "$$\n",
    "\\begin{equation}\n",
    "-T_{1}^{n+1} + \\left( 2 + \\frac{\\Delta x^2}{\\alpha\\Delta t}\\right) T_{2}^{n+1} - T_{3}^{n+1} = T_{2}^{n}\\frac{\\Delta x^2}{\\alpha\\Delta t}\n",
    "\\end{equation}\n",
    "$$\n",
    "\n",
    "What about $i=3$?\n",
    "\n",
    "$$\n",
    "\\begin{equation}\n",
    "-T_{2}^{n+1} + \\left( 2 + \\frac{\\Delta x^2}{\\alpha\\Delta t}\\right) T_{3}^{n+1} - T_{4}^{n+1} = T_{3}^{n}\\frac{\\Delta x^2}{\\alpha\\Delta t}\n",
    "\\end{equation}\n",
    "$$\n",
    "\n",
    "Can you see the common element across equations? Here's a little help:"
   ]
  },
  {
   "cell_type": "markdown",
   "metadata": {},
   "source": [
    "<img src=\"./figures/implicit_formula.svg\" style=\"width: 400px;\"/>"
   ]
  },
  {
   "cell_type": "markdown",
   "metadata": {},
   "source": [
    "$T_{i}^{n+1}$ also appears in the equation for $T_{i-1}^{n+1}$ and $T_{i+1}^{n+1}$. We might have enough equations if we apply this for all $i$-values at the same time, don't you think? In fact, this is a linear system of equations for the unknown values $T_{i}^{n+1}$ on the spatial grid."
   ]
  },
  {
   "cell_type": "markdown",
   "metadata": {},
   "source": [
    "### What about boundary conditions? "
   ]
  },
  {
   "cell_type": "markdown",
   "metadata": {},
   "source": [
    "Let's look at the boundary points of the example from the previous lesson with a Dirichlet BC at $x=0$ and a Neumann BC at $x=1$, discretizing with $N$ mesh points.\n",
    "\n",
    "The value $T_0^{n+1}$ is known at every time-step from the BC, so putting all unknown terms on the left-hand side of the equation and the known values on the right side yields the following for the $i=1$ equation:\n",
    "\n",
    "$$\n",
    "\\begin{equation}\n",
    "-T_{2}^{n+1} + \\left( 2 + \\frac{\\Delta x^2}{\\alpha\\Delta t}\\right) T_{1}^{n+1} = T_{1}^{n}\\frac{\\Delta x^2}{\\alpha\\Delta t} + T_{0}^{n+1}\n",
    "\\end{equation}\n",
    "$$\n",
    "\n",
    "That was easy!\n",
    "\n",
    "On the other hand, for $i=N-2$, the equation reads\n",
    "\n",
    "$$\n",
    "\\begin{equation}\n",
    "-T_{N-3}^{n+1} + \\left( 2 + \\frac{\\Delta x^2}{\\alpha\\Delta t}\\right) T_{N-2}^{n+1} - T_{N-1}^{n+1} = T_{N-2}^{n}\\frac{\\Delta x^2}{\\alpha\\Delta t}\n",
    "\\end{equation}\n",
    "$$\n",
    "\n",
    "The discretized Neumann boundary condition on the right side of the rod is\n",
    "\n",
    "$$\n",
    "\\begin{equation}\n",
    "\\frac{T^{n}_{N-1} - T^{n}_{N-2}}{\\Delta x} = q\n",
    "\\end{equation}\n",
    "$$\n",
    "\n",
    "But we can just as easily write that at time step $n+1$ (the boundary conditions apply at every time-step):\n",
    "\n",
    "$$\n",
    "\\begin{equation}\n",
    "\\frac{T^{n+1}_{N-1} - T^{n+1}_{N-2}}{\\Delta x} = q\n",
    "\\end{equation}\n",
    "$$\n",
    "\n",
    "Inserting the Neumann boundary condition in the equation for $i=N-2$ yields\n",
    "\n",
    "$$\n",
    "\\begin{equation}\n",
    "- T_{N-3}^{n+1} + \\left( 1 + \\frac{\\Delta x^2}{\\alpha\\Delta t}\\right) T_{N-2}^{n+1} = T_{N-2}^{n}\\frac{\\Delta x^2}{\\alpha\\Delta t} + \\Delta x q\n",
    "\\end{equation}\n",
    "$$\n",
    "\n",
    "Make sure you work this out with pen and paper: it's important to recognize where these terms come from!\n",
    "\n",
    "Now we can write the linear system of equations in matrix form as follows:\n",
    "\n",
    "$$\n",
    "[A][x] = [b]+[b]_{b.c.}\n",
    "$$\n",
    "\n",
    "where the matrix of coefficients $[A]$ is a sparse matrix—most of the matrix elements are zero—with three non-zero diagonals. We write below the system expanded out, so you can see the structure of the matrix, with $\\sigma=\\frac{\\alpha\\Delta t}{\\Delta x^2}$:"
   ]
  },
  {
   "cell_type": "markdown",
   "metadata": {},
   "source": [
    "$$\n",
    "\\begin{align}\n",
    "\\left[\n",
    "\\begin{array}{cccccc}\n",
    "\\left(2 + \\frac{1}{\\sigma}\\right) & -1 & 0 & \\cdots & & 0 \\\\\n",
    "-1 & \\left(2 + \\frac{1}{\\sigma}\\right) & -1 & 0 & \\cdots & 0 \\\\\n",
    "0 & & \\ddots& & & \\vdots \\\\\n",
    "\\vdots & & & & \\left(2 + \\frac{1}{\\sigma}\\right)& \\\\\n",
    "0 & \\cdots & & & -1 & \\left(1 + \\frac{1}{\\sigma}\\right)\n",
    "\\end{array}\n",
    "\\right]\n",
    "\\cdot \n",
    "\\left[\n",
    "\\begin{array}{c} \n",
    "T_1^{n+1} \\\\\n",
    "T_2^{n+1} \\\\\n",
    "\\vdots \\\\ \\\\\n",
    "T_{N-2}^{n+1}\n",
    "\\end{array}\n",
    "\\right]\n",
    "=\n",
    "\\left[\n",
    "\\begin{array}{c} \n",
    "T_1^n \\frac{1}{\\sigma} \\\\\n",
    "T_2^{n}\\frac{1}{\\sigma} \\\\\n",
    "\\vdots \\\\ \\\\\n",
    "T_{N-2}^{n}\\frac{1}{\\sigma}\n",
    "\\end{array}\n",
    "\\right]\n",
    "+\n",
    "\\begin{bmatrix}\n",
    "T_0^{n+1} \\\\\n",
    "0 \\\\ \\\\\n",
    "\\vdots \\\\ \\\\\n",
    "0 \\\\\n",
    "q\\Delta x\n",
    "\\end{bmatrix}\n",
    "\\end{align}\n",
    "$$\n",
    " \n",
    "Notice that the Dirichlet boundary condition adds only a term to the right-hand side of the system.  The Neumann boundary condition both adds a term to the right-hand side and modifies the matrix $[A]$."
   ]
  },
  {
   "cell_type": "markdown",
   "metadata": {},
   "source": [
    "### Problem set up"
   ]
  },
  {
   "cell_type": "markdown",
   "metadata": {},
   "source": [
    "We'll re-use the problem from lesson 1: we have a graphite rod, with [thermal diffusivity](http://en.wikipedia.org/wiki/Thermal_diffusivity) $\\alpha=1.22\\times10^{-3} {\\rm m}^2/{\\rm s}$, length $L=1{\\rm m}$, and temperature held at $T=100{\\rm C}$ on the left end, $x=0$, and $0{\\rm C}$ everywhere else initially. We'll compute the evolution of temperature on the length of the rod.\n",
    "\n",
    "Let's start like we did in the previous lesson: import your libraries and set up the discretization."
   ]
  },
  {
   "cell_type": "code",
   "execution_count": 1,
   "metadata": {},
   "outputs": [],
   "source": [
    "import numpy\n",
    "from matplotlib import pyplot\n",
    "%matplotlib inline"
   ]
  },
  {
   "cell_type": "code",
   "execution_count": 2,
   "metadata": {},
   "outputs": [],
   "source": [
    "# Set the type and size of the font to use in Matplotlib figures.\n",
    "pyplot.rcParams['font.family'] = 'serif'\n",
    "pyplot.rcParams['font.size'] = 16"
   ]
  },
  {
   "cell_type": "code",
   "execution_count": 3,
   "metadata": {},
   "outputs": [],
   "source": [
    "# Set parameters.\n",
    "L = 1.0  # length of the rod\n",
    "nx = 51  # number of locations on the rod\n",
    "dx = L / (nx - 1)  # distance between two consecutive locations\n",
    "alpha = 1.22e-3  #  thermal diffusivity of the rod\n",
    "q = 0.0  # temperature gradient on the right side of the rod\n",
    "\n",
    "# Define the locations along the rod.\n",
    "x = numpy.linspace(0.0, L, num=nx)\n",
    "\n",
    "# Set the initial temperature along the rod.\n",
    "T0 = numpy.zeros(nx)\n",
    "T0[0] = 100.0"
   ]
  },
  {
   "cell_type": "markdown",
   "metadata": {},
   "source": [
    "### Solving a linear system"
   ]
  },
  {
   "cell_type": "markdown",
   "metadata": {},
   "source": [
    "We need to solve the linear system of equations written above to advance the solution in time. Luckily, we can rely on our friends from SciPy who have developed some nice linear solvers, so we don't need to write our own.\n",
    "\n",
    "From `scipy.linalg`, let's import `solve`: a function to solve linear systems. Make sure to explore the documentation of [`scipy.linalg`](https://docs.scipy.org/doc/scipy/reference/linalg.html). We'll need to define our own custom functions to generate the coefficient matrix and the right-hand side of the linear system. You should carefully study the code below."
   ]
  },
  {
   "cell_type": "code",
   "execution_count": 4,
   "metadata": {},
   "outputs": [],
   "source": [
    "from scipy import linalg"
   ]
  },
  {
   "cell_type": "code",
   "execution_count": 5,
   "metadata": {},
   "outputs": [],
   "source": [
    "def lhs_operator(N, sigma):\n",
    "    \"\"\"\n",
    "    Computes and returns the implicit operator\n",
    "    of the system for the 1D diffusion equation.\n",
    "    We use backward Euler method, Dirichlet condition\n",
    "    on the left side of the domain and zero-gradient\n",
    "    Neumann condition on the right side.\n",
    "    \n",
    "    Parameters\n",
    "    ----------\n",
    "    N : integer\n",
    "        Number of interior points.\n",
    "    sigma : float\n",
    "        Value of alpha * dt / dx**2.\n",
    "    \n",
    "    Returns\n",
    "    -------\n",
    "    A : numpy.ndarray\n",
    "        The implicit operator as a 2D array of floats\n",
    "        of size N by N.\n",
    "    \"\"\"\n",
    "    # Setup the diagonal of the operator.\n",
    "    D = numpy.diag((2.0 + 1.0 / sigma) * numpy.ones(N))\n",
    "    # Setup the Neumann condition for the last element.\n",
    "    D[-1, -1] = 1.0 + 1.0 / sigma\n",
    "    # Setup the upper diagonal of the operator.\n",
    "    U = numpy.diag(-1.0 * numpy.ones(N - 1), k=1)\n",
    "    # Setup the lower diagonal of the operator.\n",
    "    L = numpy.diag(-1.0 * numpy.ones(N - 1), k=-1)\n",
    "    # Assemble the operator.\n",
    "    A = D + U + L\n",
    "    return A"
   ]
  },
  {
   "cell_type": "code",
   "execution_count": 6,
   "metadata": {},
   "outputs": [],
   "source": [
    "def rhs_vector(T, sigma, qdx):\n",
    "    \"\"\"\n",
    "    Computes and returns the right-hand side of the system\n",
    "    for the 1D diffusion equation, using a Dirichlet condition\n",
    "    on the left side and a Neumann condition on the right side.\n",
    "    \n",
    "    Parameters\n",
    "    ----------\n",
    "    T : numpy.ndarray\n",
    "        The temperature distribution as a 1D array of floats.\n",
    "    sigma : float\n",
    "        Value of alpha * dt / dx**2.\n",
    "    qdx : float\n",
    "        Value of the temperature flux at the right side.\n",
    "    \n",
    "    Returns\n",
    "    -------\n",
    "    b : numpy.ndarray\n",
    "        The right-hand side of the system as a 1D array of floats.\n",
    "    \"\"\"\n",
    "    b = T[1:-1] / sigma\n",
    "    # Set Dirichlet condition.\n",
    "    b[0] += T[0]\n",
    "    # Set Neumann condition.\n",
    "    b[-1] += qdx\n",
    "    return b"
   ]
  },
  {
   "cell_type": "markdown",
   "metadata": {},
   "source": [
    "Next, we'll define a function that steps in time using the implicit central-space scheme.  Remember that for an implicit method, a step in time is performed by solving the entire linear system. This is a fundamental difference between implicit and explicit methods, and implies a considerable computational cost."
   ]
  },
  {
   "cell_type": "code",
   "execution_count": 7,
   "metadata": {},
   "outputs": [],
   "source": [
    "def btcs_implicit(T0, nt, dt, dx, alpha, q):\n",
    "    \"\"\"\n",
    "    Computes and returns the temperature along the rod\n",
    "    after a given number of time steps.\n",
    "    \n",
    "    The function uses Euler implicit in time,\n",
    "    central differencing in space, a Dirichlet condition\n",
    "    on the left side, and a Neumann condition on the\n",
    "    right side.\n",
    "    \n",
    "    Parameters\n",
    "    ----------\n",
    "    T0 : numpy.ndarray\n",
    "        The initial temperature distribution as a 1D array of floats.\n",
    "    nt : integer\n",
    "        Number of time steps to compute.\n",
    "    dt : float\n",
    "        Time-step size.\n",
    "    dx : float\n",
    "        Distance between two consecutive locations.\n",
    "    alpha : float\n",
    "        Thermal diffusivity of the rod.\n",
    "    q : float\n",
    "        Value of the temperature gradient on the right side.\n",
    "    \n",
    "    Returns\n",
    "    -------\n",
    "    T : numpy.ndarray\n",
    "        The temperature distribution as a 1D array of floats.\n",
    "    \"\"\"\n",
    "    sigma = alpha * dt / dx**2\n",
    "    # Create the implicit operator of the system.\n",
    "    A = lhs_operator(len(T0) - 2, sigma)\n",
    "    # Integrate in time.\n",
    "    T = T0.copy()\n",
    "    for n in range(nt):\n",
    "        # Generate the right-hand side of the system.\n",
    "        b = rhs_vector(T, sigma, q * dx)\n",
    "        # Solve the system with scipy.linalg.solve.\n",
    "        T[1:-1] = linalg.solve(A, b)\n",
    "        # Apply the Neumann boundary condition.\n",
    "        T[-1] = T[-2] + q * dx\n",
    "    return T"
   ]
  },
  {
   "cell_type": "markdown",
   "metadata": {},
   "source": [
    "We solve the linear system for every time step, but the $A$ matrix does not change. Thus, you can generate it only once and then use it for all time steps. Let's try this out!"
   ]
  },
  {
   "cell_type": "code",
   "execution_count": 8,
   "metadata": {},
   "outputs": [],
   "source": [
    "# Set the time-step size based on CFL limit.\n",
    "sigma = 0.5\n",
    "dt = sigma * dx**2 / alpha  # time-step size\n",
    "nt = 1000  # number of time steps to compute\n",
    "\n",
    "# Compute the temperature along the rod.\n",
    "T = btcs_implicit(T0, nt, dt, dx, alpha, q)"
   ]
  },
  {
   "cell_type": "markdown",
   "metadata": {},
   "source": [
    "Now plot the solution!"
   ]
  },
  {
   "cell_type": "code",
   "execution_count": 9,
   "metadata": {},
   "outputs": [
    {
     "data": {
      "image/png": "[encoded data removed]",
      "text/plain": [
       "<Figure size 432x288 with 1 Axes>"
      ]
     },
     "metadata": {},
     "output_type": "display_data"
    }
   ],
   "source": [
    "# Plot the temperature along the rod.\n",
    "pyplot.figure(figsize=(6.0, 4.0))\n",
    "pyplot.xlabel('Distance')\n",
    "pyplot.ylabel('Temperature (C)')\n",
    "pyplot.grid()\n",
    "pyplot.plot(x, T, color='C0', linestyle='-', linewidth=2)\n",
    "pyplot.xlim(0.0, L)\n",
    "pyplot.ylim(0.0, 100.0);"
   ]
  },
  {
   "cell_type": "markdown",
   "metadata": {},
   "source": [
    "Not too impressive, this looks just like the result from *explicit* forward in time, centered in space for $\\alpha\\frac{\\Delta t}{\\Delta x^2} = \\frac{1}{2}$. \n",
    "\n",
    "But try $\\alpha\\frac{\\Delta t}{\\Delta x^2} = 5$, which violates the stability condition of the *explicit* scheme:"
   ]
  },
  {
   "cell_type": "code",
   "execution_count": 10,
   "metadata": {},
   "outputs": [
    {
     "data": {
      "image/png": "[encoded data removed]",
      "text/plain": [
       "<Figure size 432x288 with 1 Axes>"
      ]
     },
     "metadata": {},
     "output_type": "display_data"
    }
   ],
   "source": [
    "# Increase the CFL number.\n",
    "sigma = 5.0\n",
    "dt = sigma * dx**2 / alpha  # time-step size\n",
    "nt = 100  # number of time steps to compute\n",
    "\n",
    "# Compute the temperature along the rod.\n",
    "T = btcs_implicit(T0, nt, dt, dx, alpha, q)\n",
    "\n",
    "# Plot the temperature along the rod.\n",
    "pyplot.figure(figsize=(6.0, 4.0))\n",
    "pyplot.xlabel('Distance')\n",
    "pyplot.ylabel('Temperature (C)')\n",
    "pyplot.grid()\n",
    "pyplot.plot(x, T, color='C0', linestyle='-', linewidth=2)\n",
    "pyplot.xlim(0.0, L)\n",
    "pyplot.ylim(0.0, 100.0);"
   ]
  },
  {
   "cell_type": "markdown",
   "metadata": {},
   "source": [
    "**It didn't blow up!**\n",
    "\n",
    "We were not able to use such a large time step with the explicit scheme. You can try out other values of `sigma` and you'll get a stable solution. In fact, this is an *unconditionally stable* scheme—the most valuable feature of implicit methods is that they give stable solutions without a constraint on the choice of time step. \n",
    "\n",
    "Using the implicit scheme, we can always advance in time using larger time steps. But each time step requires the solution of a linear system, which is computationally expensive. This is the trade-off between explicit and implicit methods. \n",
    "To experiment further, set different values of the Neumann boundary flux and see if the solution behaves as you expect."
   ]
  },
  {
   "cell_type": "markdown",
   "metadata": {},
   "source": [
    "##### A word of warning"
   ]
  },
  {
   "cell_type": "markdown",
   "metadata": {},
   "source": [
    "Implicit methods allow you to use significantly larger time steps, because they are not subject to stability constraints. But that doesn't mean you can use just _any_ large time step! Remember that Euler's method is a first-order method, so the _accuracy_ gets worse as you increase the time step, in direct proportion. In fact, you can lose the ability to capture the correct physics if your time step is too large. Numerical stability does not imply accuracy!"
   ]
  },
  {
   "cell_type": "markdown",
   "metadata": {},
   "source": [
    "##### Dig deeper"
   ]
  },
  {
   "cell_type": "markdown",
   "metadata": {},
   "source": [
    "You see how matrix `A` is mostly full of zeros?  We call such a matrix *sparse*, and there are many ways to make more efficient calculations taking advantage of their particular structure. First of all, you can optimize the memory usage. Check out SciPy's [sparse-matrix storage formats](https://docs.scipy.org/doc/scipy/reference/sparse.html): you don't need too store $(N-2)^2$ elements! For example, a `coo_matrix` format stores only $3*N_\\text{nonzero}$, where $N_\\text{nonzero}$ is the number of non-zero elements in `A`. Make sure to explore this topic a little more. It's an important topic in numerical PDEs."
   ]
  },
  {
   "cell_type": "markdown",
   "metadata": {},
   "source": [
    "---\n",
    "###### The cell below loads the style of the notebook"
   ]
  },
  {
   "cell_type": "code",
   "execution_count": 11,
   "metadata": {},
   "outputs": [
    {
     "data": {
      "text/html": [
       "<link href='http://fonts.googleapis.com/css?family=Alegreya+Sans:100,300,400,500,700,800,900,100italic,300italic,400italic,500italic,700italic,800italic,900italic' rel='stylesheet' type='text/css'>\n",
       "<link href='http://fonts.googleapis.com/css?family=Arvo:400,700,400italic' rel='stylesheet' type='text/css'>\n",
       "<link href='http://fonts.googleapis.com/css?family=PT+Mono' rel='stylesheet' type='text/css'>\n",
       "<link href='http://fonts.googleapis.com/css?family=Shadows+Into+Light' rel='stylesheet' type='text/css'>\n",
       "<link href='http://fonts.googleapis.com/css?family=Nixie+One' rel='stylesheet' type='text/css'>\n",
       "<link href='https://fonts.googleapis.com/css?family=Source+Code+Pro' rel='stylesheet' type='text/css'>\n",
       "<style>\n",
       "\n",
       "@font-face {\n",
       "    font-family: \"Computer Modern\";\n",
       "    src: url('http://mirrors.ctan.org/fonts/cm-unicode/fonts/otf/cmunss.otf');\n",
       "}\n",
       "\n",
       "#notebook_panel { /* main background */\n",
       "    background: rgb(245,245,245);\n",
       "}\n",
       "\n",
       "div.cell { /* set cell width */\n",
       "    width: 750px;\n",
       "}\n",
       "\n",
       "div #notebook { /* centre the content */\n",
       "    background: #fff; /* white background for content */\n",
       "    width: 1000px;\n",
       "    margin: auto;\n",
       "    padding-left: 0em;\n",
       "}\n",
       "\n",
       "#notebook li { /* More space between bullet points */\n",
       "    margin-top:0.8em;\n",
       "}\n",
       "\n",
       "/* draw border around running cells */\n",
       "div.cell.border-box-sizing.code_cell.running { \n",
       "    border: 1px solid #111;\n",
       "}\n",
       "\n",
       "/* Put a solid color box around each cell and its output, visually linking them*/\n",
       "div.cell.code_cell {\n",
       "    background-color: rgb(256,256,256); \n",
       "    border-radius: 0px; \n",
       "    padding: 0.5em;\n",
       "    margin-left:1em;\n",
       "    margin-top: 1em;\n",
       "}\n",
       "\n",
       "div.text_cell_render{\n",
       "    font-family: 'Alegreya Sans' sans-serif;\n",
       "    line-height: 140%;\n",
       "    font-size: 125%;\n",
       "    font-weight: 400;\n",
       "    width:600px;\n",
       "    margin-left:auto;\n",
       "    margin-right:auto;\n",
       "}\n",
       "\n",
       "\n",
       "/* Formatting for header cells */\n",
       ".text_cell_render h1 {\n",
       "    font-family: 'Nixie One', serif;\n",
       "    font-style:regular;\n",
       "    font-weight: 400;    \n",
       "    font-size: 45pt;\n",
       "    line-height: 100%;\n",
       "    color: rgb(0,51,102);\n",
       "    margin-bottom: 0.5em;\n",
       "    margin-top: 0.5em;\n",
       "    display: block;\n",
       "}\n",
       "\n",
       ".text_cell_render h2 {\n",
       "    font-family: 'Nixie One', serif;\n",
       "    font-weight: 400;\n",
       "    font-size: 30pt;\n",
       "    line-height: 100%;\n",
       "    color: rgb(0,51,102);\n",
       "    margin-bottom: 0.1em;\n",
       "    margin-top: 0.3em;\n",
       "    display: block;\n",
       "}\t\n",
       "\n",
       ".text_cell_render h3 {\n",
       "    font-family: 'Nixie One', serif;\n",
       "    margin-top:16px;\n",
       "    font-size: 22pt;\n",
       "    font-weight: 600;\n",
       "    margin-bottom: 3px;\n",
       "    font-style: regular;\n",
       "    color: rgb(102,102,0);\n",
       "}\n",
       "\n",
       ".text_cell_render h4 {    /*Use this for captions*/\n",
       "    font-family: 'Nixie One', serif;\n",
       "    font-size: 14pt;\n",
       "    text-align: center;\n",
       "    margin-top: 0em;\n",
       "    margin-bottom: 2em;\n",
       "    font-style: regular;\n",
       "}\n",
       "\n",
       ".text_cell_render h5 {  /*Use this for small titles*/\n",
       "    font-family: 'Nixie One', sans-serif;\n",
       "    font-weight: 400;\n",
       "    font-size: 16pt;\n",
       "    color: rgb(163,0,0);\n",
       "    font-style: italic;\n",
       "    margin-bottom: .1em;\n",
       "    margin-top: 0.8em;\n",
       "    display: block;\n",
       "}\n",
       "\n",
       ".text_cell_render h6 { /*use this for copyright note*/\n",
       "    font-family: 'PT Mono', sans-serif;\n",
       "    font-weight: 300;\n",
       "    font-size: 9pt;\n",
       "    line-height: 100%;\n",
       "    color: grey;\n",
       "    margin-bottom: 1px;\n",
       "    margin-top: 1px;\n",
       "}\n",
       "\n",
       ".CodeMirror{\n",
       "    font-family: \"Source Code Pro\";\n",
       "    font-size: 90%;\n",
       "}\n",
       "\n",
       ".alert-box {\n",
       "    padding:10px 10px 10px 36px;\n",
       "    margin:5px;\n",
       "}\n",
       "\n",
       ".success {\n",
       "    color:#666600;\n",
       "    background:rgb(240,242,229);\n",
       "}\n",
       "</style>\n",
       "\n",
       "<script>\n",
       "    MathJax.Hub.Config({\n",
       "                        TeX: {\n",
       "                            extensions: [\"AMSmath.js\"],\n",
       "                            equationNumbers: { autoNumber: \"AMS\", useLabelIds: true}\n",
       "                            },\n",
       "                        tex2jax: {\n",
       "                            inlineMath: [ ['$','$'], [\"\\\\(\",\"\\\\)\"] ],\n",
       "                            displayMath: [ ['$$','$$'], [\"\\\\[\",\"\\\\]\"] ]\n",
       "                            },\n",
       "                        displayAlign: 'center', // Change this to 'center' to center equations.\n",
       "                        \"HTML-CSS\": {\n",
       "                            styles: {'.MathJax_Display': {\"margin\": 4}}\n",
       "                            }\n",
       "                        });\n",
       "    MathJax.Hub.Queue(\n",
       "                      [\"resetEquationNumbers\", MathJax.InputJax.TeX],\n",
       "                      [\"PreProcess\", MathJax.Hub],\n",
       "                      [\"Reprocess\", MathJax.Hub]\n",
       "                     );\n",
       "</script>\n"
      ],
      "text/plain": [
       "<IPython.core.display.HTML object>"
      ]
     },
     "execution_count": 11,
     "metadata": {},
     "output_type": "execute_result"
    }
   ],
   "source": [
    "from IPython.core.display import HTML\n",
    "css_file = '../../styles/numericalmoocstyle.css'\n",
    "HTML(open(css_file, 'r').read())"
   ]
  }
 ],
 "metadata": {
  "kernelspec": {
   "display_name": "Python 3 (MOOC)",
   "language": "python",
   "name": "py36-mooc"
  },
  "language_info": {
   "codemirror_mode": {
    "name": "ipython",
    "version": 3
   },
   "file_extension": ".py",
   "mimetype": "text/x-python",
   "name": "python",
   "nbconvert_exporter": "python",
   "pygments_lexer": "ipython3",
   "version": "3.6.5"
  }
 },
 "nbformat": 4,
 "nbformat_minor": 1
}
