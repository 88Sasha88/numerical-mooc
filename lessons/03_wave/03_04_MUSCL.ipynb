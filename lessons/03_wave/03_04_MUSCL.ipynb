{
 "cells": [
  {
   "cell_type": "markdown",
   "metadata": {},
   "source": [
    "###### Content under Creative Commons Attribution license CC-BY 4.0, code under MIT license (c)2014 L.A. Barba, G.F. Forsyth, I. Hawke. Partly based on [HyperPython](http://nbviewer.ipython.org/github/ketch/HyperPython/tree/master/) by D.I. Ketcheson, also under CC-BY."
   ]
  },
  {
   "cell_type": "markdown",
   "metadata": {},
   "source": [
    "# Riding the wave"
   ]
  },
  {
   "cell_type": "markdown",
   "metadata": {},
   "source": [
    "This is the fourth and final lesson of Module 3, _Riding the wave: convection problems_, of the course **\"Practical Numerical Methods with Python\"** (a.k.a., [#numericalmooc](https://twitter.com/hashtag/numericalmooc)). We learned about conservation laws and the traffic-flow model in the [first lesson](https://nbviewer.jupyter.org/github/numerical-mooc/numerical-mooc/blob/master/lessons/03_wave/03_01_conservationLaw.ipynb), and then about better numerical schemes for convection in [lesson 2](https://nbviewer.jupyter.org/github/numerical-mooc/numerical-mooc/blob/master/lessons/03_wave/03_02_convectionSchemes.ipynb). \n",
    "\n",
    "By then, you should have started to recognize that both mathematical models and numerical schemes work together to give us a good solution to a problem. To drive the point home, [lesson 3](https://nbviewer.jupyter.org/github/numerical-mooc/numerical-mooc/blob/master/lessons/03_wave/03_03_aBetterModel.ipynb) deals only with an improved model—and showed you some impressive SymPy tricks!\n",
    "\n",
    "In this lesson, we'll learn about a new class of discretization schemes, known as finite-volume methods. They are the _most widely used_ methods in computational fluid dynamics, and for good reasons! Let's get started ..."
   ]
  },
  {
   "cell_type": "markdown",
   "metadata": {},
   "source": [
    "## Finite-volume method"
   ]
  },
  {
   "cell_type": "markdown",
   "metadata": {},
   "source": [
    "Are you curious to find out why the finite-volume method (FVM) is the _most popular method_ in computational fluid dynamics? In fact, almost all of the commercial CFD software packages are based on the finite-volume discretization. Here are some reasons:\n",
    "\n",
    "* FVM discretizations are very general and have no requirement that the grid be structured, like in the finite-difference method. This makes FVM very _flexible_.\n",
    "\n",
    "* FVM gives a _conservative discretization_ automatically by using directly the conservation laws in integral form."
   ]
  },
  {
   "cell_type": "markdown",
   "metadata": {},
   "source": [
    "### Conservative discretization"
   ]
  },
  {
   "cell_type": "markdown",
   "metadata": {},
   "source": [
    "Let's go right back to the start of this module, where we explained conservation laws looking at a tiny control volume. To simplify the discussion, we just looked at flow in one dimension, with velocity $u$. Imagining a tiny cylindrical volume, like the one shown in Figure 1, there is flux on the left face and right face and we easily explained conservation of mass in that case."
   ]
  },
  {
   "cell_type": "markdown",
   "metadata": {},
   "source": [
    "![1Dcontrolvolume](./figures/1Dcontrolvolume.png)\n",
    "#### Figure 1. Tiny control volume in the shape of a cylinder."
   ]
  },
  {
   "cell_type": "markdown",
   "metadata": {},
   "source": [
    "The law of conservation of mass says that the rate of change of mass in the control volume, plus the net rate of flow of mass across the control surfaces must be zero. The same idea works for other conserved quantities.\n",
    "\n",
    "Conservation means that any change in the quantity within a volume is due to the amount of that quantity that crosses the boundary. Sounds simple enough. (Remember that we are ignoring possible internal sources of the quantity.) The amount crossing the boundary is the flux. A general conservation law for a quantity $e$ is thus:\n",
    "\n",
    "$$\n",
    "\\begin{equation}\n",
    "\\frac{\\partial}{\\partial t}\\int_{\\text{cv}}e \\, dV + \\oint_{\\text{cs}}\\vec{F}\\cdot d\\vec{A} =0\n",
    "\\end{equation}\n",
    "$$\n",
    "\n",
    "where $\\vec{F}$ is the flux, and $\\text{cv}$ denotes the control volume with control surface $\\text{cs}$."
   ]
  },
  {
   "cell_type": "markdown",
   "metadata": {},
   "source": [
    "**Why not make the control volume itself our computational cell?**\n",
    "\n",
    "Imagine that the one-dimensional domain of interest is divided using grid points $x_i$. But instead of trying to compute local values at the grid points, like we did before, we now want to follow the time evolution of _average_ values within each one-dimensional cell of width $\\Delta x$ with center at $x_i$ (the idea is that as long as the cells are small enough, the average values will be a good representation of the quantities we are interested in). \n",
    "\n",
    "Define $e_i$ as the integral average across the little control volume on the cell with center at $x_i$ (see Figure 2).\n",
    "\n",
    "$$\n",
    "\\begin{equation}\n",
    "e_i = \\frac{1}{\\Delta x} \\int_{x_i - \\Delta x / 2}^{x_i + \\Delta x / 2} e(x, t) \\, dx.\n",
    "\\end{equation}\n",
    "$$\n",
    "\n",
    "If we know the flux terms at the boundaries of the control volume, which are at $x_{i-1/2}$ and $x_{i+1/2}$, the general conservation law for this small control volume gives:\n",
    "\n",
    "$$\n",
    "\\begin{equation}\n",
    "\\frac{\\partial}{\\partial t} e_i + \\frac{1}{\\Delta x} \\left[ F \\left( x_{i+1/2}, t \\right) - F \\left( x_{i - 1 / 2}, t \\right) \\right] = 0.\n",
    "\\end{equation}\n",
    "$$ \n",
    "\n",
    "This now just requires a time-stepping scheme, and is easy to solve *if* we can find $F$ on the control surfaces."
   ]
  },
  {
   "cell_type": "markdown",
   "metadata": {},
   "source": [
    "![finite volume](./figures/finite_volume.png)\n",
    "\n",
    "#### Figure 2. Discretizing a 1D domain into finite volumes."
   ]
  },
  {
   "cell_type": "markdown",
   "metadata": {},
   "source": [
    "We've seen with the traffic model that the flux can depend on the conserved quantity (in that case, the traffic density). That is generally the case, so we write that $F = F(e)$. We will need to compute, or approximate, the flux terms at the cell edges (control surfaces) from the integral averages, $e_i$.\n",
    "\n",
    "If we had a simple convection equation with $c>0$, then the flux going into the cell centered at $x_i$ from the left would be $F(e_{i-1})$ and the flux going out the cell on the right side would be $F(e_{i})$ (see Figure 2). Applying these fluxes in Equation (3) results in a scheme that is equivalent to our tried-and-tested backward-space (upwind) scheme! \n",
    "\n",
    "We know from previous lessons that the backward-space scheme is first order and the error introduces numerical diffusion. Also, remember what happened when we tried to use it with the non-linear [traffic model](https://nbviewer.jupyter.org/github/numerical-mooc/numerical-mooc/blob/master/lessons/03_wave/03_01_conservationLaw.ipynb) in the green-light problem? *It blew up!* That was because the problem contains both right-moving and left-moving waves (if you don't remember that discussion, go back and review it; it's important!).\n",
    "\n",
    "To skirt this difficulty in the green-light problem, we chose initial conditions that don't produce negative wave speeds. But that's cheating! A genuine solution would be to have a scheme that can deal with both positive and negative wave speeds. Here is where Godunov comes in."
   ]
  },
  {
   "cell_type": "markdown",
   "metadata": {},
   "source": [
    "### Godunov's method"
   ]
  },
  {
   "cell_type": "markdown",
   "metadata": {},
   "source": [
    "Godunov proposed a first-order method in 1959 that uses the integral form of the conservation laws, Equation (1), and a piecewise constant representation of the solution, as shown in Figure (2). Notice that representing the solution in this way is like having a myriad of little shocks at the cell boundaries (control surfaces).\n",
    "\n",
    "For each control surface, we have *two values* for the solution $e$ at a given time: the constant value to the left, $e_L$, and the constant value to the right, $e_R$. A situation where you have a conservation law with a constant initial condition, except for a single jump discontinuity is called a **Riemann problem**. \n",
    "\n",
    "The Riemann problem has an exact solution for the Euler equations (as well as for any scalar conservation law). The [shock-tube problem](https://nbviewer.jupyter.org/github/numerical-mooc/numerical-mooc/blob/master/lessons/03_wave/03_05_Sods_Shock_Tube.ipynb), subject of your assignment for this course module, is a Riemann problem! And because it has an analytical solution, we can use it for testing the accuracy of numerical methods. \n",
    "\n",
    "But Godunov had a better idea. With the solution represented as piecewise constant (Figure 2), why not use the analytical solution of the Riemann problem at each cell boundary? Solving a Riemann problem gives all the information about the characteristic structure of the solution, including the sign of the wave speed. The full solution can then be reconstructed from the union of all the Riemann solutions at cell boundaries. *Neat idea, Godunov!*\n",
    "\n",
    "Figure 3 illustrates a Riemann problem for the Euler equations, associated to the shock tube. The space-time plot shows the characteristic lines for the left-traveling expansion wave, and the right-traveling contact discontinuity and shock."
   ]
  },
  {
   "cell_type": "markdown",
   "metadata": {},
   "source": [
    "![Riemann-shocktube](./figures/Riemann-shocktube.png)\n",
    "\n",
    "#### Figure 3. The shock tube: a Riemann problem for Euler's equations. Physical space (top) and $x, t$ space (bottom)."
   ]
  },
  {
   "cell_type": "markdown",
   "metadata": {},
   "source": [
    "We need to solve many Riemann problems from $t$ to $\\Delta t$, one on each cell boundary (illustrated in Figure 4). The numerical flux on $x_{i+1/2}$ is \n",
    "\n",
    "$$\n",
    "\\begin{equation}\n",
    "F_{i+1/2}= \\frac{1}{\\Delta t} \\int_{t^n}^{t^{n+1}} F\\left(e(x_{i+1/2},t) \\right)\\,dt\n",
    "\\end{equation}\n",
    "$$\n",
    "\n",
    "To be able to solve each Riemann problem independently, they should not interact, which imposes a limit on $\\Delta t$. Looking at Figure 4, you might conclude that we must require a CFL number of 1/2 to avoid interactions between the Riemann solutions, but the numerical flux above only depends on the state at $x_{i+1/2}$, so we're fine as long as the solution there is not affected by that at $x_{i-1/2}$—i.e., the CFL limit is really 1."
   ]
  },
  {
   "cell_type": "markdown",
   "metadata": {},
   "source": [
    "![many_Rieman_problems](./figures/many_Rieman_problems.png)\n",
    "\n",
    "#### Figure 4. Riemann problems on each cell boundary."
   ]
  },
  {
   "cell_type": "markdown",
   "metadata": {},
   "source": [
    "The Riemann solution, even though known analytically, can get quite hairy for non-linear systems of conservation laws (like the Euler equations). And we need as many Riemann solutions as there are finite-volume cell boundaries, and again at each time step! This gets really cumbersome. \n",
    "\n",
    "Godunov solved the Riemann problems exactly, but many after him proposed *approximate* Riemann solutions instead. We'll be calculating the full solution numerically, after all, so some controlled approximations can be made. You might imagine a simple approximation for the flux at a cell boundary that is just the average between the left and right values, for example: $\\frac{1}{2}\\left[F(e_L)+F(e_R)\\right]$. But that leads to a central scheme and, on its own, is unstable. Adding a term proportional to the difference between left and right states, $e_R-e_L$, supplies artificial dissipation and gives stability (see van Leer et al., 1987).\n",
    "\n",
    "One formula for the numerical flux at $x_{i+1/2}$ called the Rusanov flux, a.k.a. Lax-Friedrichs flux, is given by\n",
    "\n",
    "$$\n",
    "\\begin{equation}\n",
    "F_{i+1/2}= \\frac{1}{2} \\left[ F \\left( e_L \\right) + F \\left( e_R \\right)  \\right] - \\frac{1}{2}  \\max \\left|F'(e)\\right| \\left( e_R - e_L \\right)\n",
    "\\end{equation}\n",
    "$$\n",
    "\n",
    "where $F'(e)$ is the Jacobian of the flux function and $\\max\\left|F'(e)\\right|$ is the local propagation speed of the fastest traveling wave. The Riemann solutions at each cell boundary do not interact if $\\max|F'(e)|\\leq\\frac{\\Delta x}{\\Delta t}$, which leads to a flux formula we can now use:\n",
    "\n",
    "$$\n",
    "\\begin{equation}\n",
    "F_{i+1/2}= \\frac{1}{2} \\left( F \\left( e_{i} \\right) + F \\left( e_{i+1} \\right) - \\frac{\\Delta x}{\\Delta t} \\left( e_{i+1} - e_{i} \\right) \\right)\n",
    "\\end{equation}\n",
    "$$"
   ]
  },
  {
   "cell_type": "markdown",
   "metadata": {},
   "source": [
    "### Let's try it!"
   ]
  },
  {
   "cell_type": "code",
   "execution_count": 1,
   "metadata": {},
   "outputs": [],
   "source": [
    "import numpy\n",
    "%matplotlib inline"
   ]
  },
  {
   "cell_type": "markdown",
   "metadata": {},
   "source": [
    "Let's apply Godunov's method to the [LWR traffic model](https://nbviewer.jupyter.org/github/numerical-mooc/numerical-mooc/blob/master/lessons/03_wave/03_01_conservationLaw.ipynb). In [lesson 2](https://nbviewer.jupyter.org/github/numerical-mooc/numerical-mooc/blob/master/lessons/03_wave/03_02_convectionSchemes.ipynb) we already wrote functions to set the initial conditions for a red-light problem and to compute the fluxes.  To save us from  writing this out again, we saved those functions into a Python file named `traffic.py` (found in the same directory of the course repository). Now, we can use those functions by importing them in the same way that we import NumPy or any other library. Like this:"
   ]
  },
  {
   "cell_type": "code",
   "execution_count": 2,
   "metadata": {},
   "outputs": [],
   "source": [
    "from traffic import rho_red_light, flux\n",
    "from traffic import plot_traffic_density, interactive_traffic"
   ]
  },
  {
   "cell_type": "markdown",
   "metadata": {},
   "source": [
    "\n",
    "You've probably noticed that we have the habit of writing detailed explanations of what a function does after defining it, in comments.  These comments are called *docstrings* and it is good practice to include them in all your functions.  It can be very useful when loading a function that you aren't familiar with (or don't remember!), because the `help` command will print them out for you.  Check it out:"
   ]
  },
  {
   "cell_type": "code",
   "execution_count": 3,
   "metadata": {},
   "outputs": [
    {
     "name": "stdout",
     "output_type": "stream",
     "text": [
      "Help on function rho_red_light in module traffic:\n",
      "\n",
      "rho_red_light(x, rho_max)\n",
      "    Computes the \"red light\" initial condition with shock.\n",
      "    \n",
      "    Parameters\n",
      "    ----------\n",
      "    x : numpy.ndarray\n",
      "        Locations on the road as a 1D array of floats.\n",
      "    rho_max : float\n",
      "        The maximum traffic density allowed.\n",
      "    \n",
      "    Returns\n",
      "    -------\n",
      "    rho : numpy.ndarray\n",
      "        The initial car density along the road as a 1D array of floats.\n",
      "\n"
     ]
    }
   ],
   "source": [
    "help(rho_red_light)"
   ]
  },
  {
   "cell_type": "markdown",
   "metadata": {},
   "source": [
    "Now, we can write some code to set up our notebook environment, and set the calculation parameters, with the functions imported above readily available."
   ]
  },
  {
   "cell_type": "code",
   "execution_count": 4,
   "metadata": {},
   "outputs": [
    {
     "data": {
      "image/png": "[encoded data removed]",
      "text/plain": [
       "<Figure size 432x288 with 1 Axes>"
      ]
     },
     "metadata": {},
     "output_type": "display_data"
    }
   ],
   "source": [
    "# Set parameters.\n",
    "nx = 100  # number of cells along the road\n",
    "L = 4.0  # length of the road\n",
    "dx = L / nx  # cell width\n",
    "nt = 30  # number of time steps to compute\n",
    "rho_max = 10.0  # maximum traffic density allowed\n",
    "u_max = 1.0  # speed limit\n",
    "\n",
    "# Get the grid-cell centers.\n",
    "# x_i is now the center of the i-th cell.\n",
    "x = numpy.linspace(0.0 + 0.5 * dx, L - 0.5 * dx, num=nx)\n",
    "\n",
    "# Compute the initial traffic density.\n",
    "rho0 = rho_red_light(x, rho_max)\n",
    "\n",
    "# Plot the initial traffic density.\n",
    "plot_traffic_density(x, [rho0], 0)"
   ]
  },
  {
   "cell_type": "markdown",
   "metadata": {},
   "source": [
    "Below is a new function for applying Godunov's method with Lax-Friedrichs fluxes. Study it carefully."
   ]
  },
  {
   "cell_type": "code",
   "execution_count": 5,
   "metadata": {},
   "outputs": [],
   "source": [
    "def godunov(rho0, nt, dt, dx, bc_values, *args):\n",
    "    \"\"\"\n",
    "    Computes and returns the history of the traffic density\n",
    "    on the road using a Godunov scheme\n",
    "    with a Lax-Friedrichs flux.\n",
    "    \n",
    "    Parameters\n",
    "    ----------\n",
    "    rho0 : numpy.ndarray\n",
    "        The initial traffic density along the road\n",
    "        as a 1D array of floats.\n",
    "    nt : integer\n",
    "        The number of time steps to compute.\n",
    "    dt : float\n",
    "        The time-step size to integrate.\n",
    "    dx : float\n",
    "        The distance between two consecutive locations.\n",
    "    bc_values : tuple or list\n",
    "        The value of the density at the first and last locations\n",
    "        as a tuple or list of two floats.\n",
    "    args : list\n",
    "        Positional arguments to be passed to the flux function.\n",
    "    \n",
    "    Returns\n",
    "    -------\n",
    "    rho_all : list of numpy.ndarray objects\n",
    "        The car density along the road at all time steps\n",
    "        as a list of 1D arrays of floats.\n",
    "    \"\"\"\n",
    "    rho_all = [rho0.copy()]\n",
    "    rho = rho0.copy()\n",
    "    for n in range(nt):\n",
    "        rhoL = rho[:-1]  # i-th value at index i-1/2\n",
    "        rhoR = rho[1:]  # i+1-th value at index i-1/2\n",
    "        # Compute the flux at cell boundaries.\n",
    "        F = 0.5 * (flux(rhoL, *args) + flux(rhoR, *args) -\n",
    "                   dx / dt * (rhoR - rhoL))\n",
    "        # Advance in time.\n",
    "        rho[1:-1] = rho[1:-1] - dt / dx * (F[1:] - F[:-1])\n",
    "        # Apply boundary conditions.\n",
    "        rho[0], rho[-1] = bc_values\n",
    "        # Record the time-step solution.\n",
    "        rho_all.append(rho.copy())\n",
    "    return rho_all"
   ]
  },
  {
   "cell_type": "markdown",
   "metadata": {},
   "source": [
    "We can run using a CFL of $1$, to start with, but you should experiment with different values."
   ]
  },
  {
   "cell_type": "code",
   "execution_count": 6,
   "metadata": {},
   "outputs": [
    {
     "data": {
      "application/vnd.jupyter.widget-view+json": {
       "model_id": "f4ec175f2b7c499497c9b5cefabecb08",
       "version_major": 2,
       "version_minor": 0
      },
      "text/plain": [
       "interactive(children=(IntSlider(value=0, description='time step', max=30), Output()), _dom_classes=('widget-in…"
      ]
     },
     "metadata": {},
     "output_type": "display_data"
    }
   ],
   "source": [
    "# Set time-step size based on CFL limit.\n",
    "sigma = 1.0\n",
    "dt = sigma * dx / u_max  # time-step size\n",
    "\n",
    "# Compute the traffic density at all time steps.\n",
    "rho_all = godunov(rho0, nt, dt, dx, (rho0[0], rho0[-1]),\n",
    "                  u_max, rho_max)\n",
    "\n",
    "# Create and display an interactive figure.\n",
    "display(interactive_traffic(x, rho_all))"
   ]
  },
  {
   "cell_type": "markdown",
   "metadata": {},
   "source": [
    "You'll see that the result is very similar to the original Lax-Friedrichs method, and with good reason: they're essentially the same! But this is only because we are using a uniform grid. In the finite-volume approach, using the integral form of the equations, we were free to use a spatially varying grid spacing, if we wanted to. \n",
    "\n",
    "The original Godunov method is first-order accurate, due to representing the conserved quantity by a piecewise-constant approximation. That is why you see considerable numerical diffusion in the solution. But Godunov's method laid the foundation for all finite-volume methods to follow and it was a milestone in numerical solutions of hyperbolic conservation laws. A whole industry developed inventing \"high-resolution\" methods that offer second-order accuracy and higher."
   ]
  },
  {
   "cell_type": "markdown",
   "metadata": {},
   "source": [
    "##### Dig deeper"
   ]
  },
  {
   "cell_type": "markdown",
   "metadata": {},
   "source": [
    "* Godunov's method works in problems having waves moving with positive or negative wave speeds. Try it on the green-light problem introduced in [lesson 1](https://nbviewer.jupyter.org/github/numerical-mooc/numerical-mooc/blob/master/lessons/03_wave/03_01_conservationLaw.ipynb) using the initial condition containing waves traveling in both directions.\n",
    "\n",
    "* Investigate two or three different numerical flux schemes (you can start with van Leer et al., 1987, or Google for other references. Implement the different flux schemes and compare!"
   ]
  },
  {
   "cell_type": "markdown",
   "metadata": {},
   "source": [
    "## MUSCL schemes"
   ]
  },
  {
   "cell_type": "markdown",
   "metadata": {},
   "source": [
    "Godunov's method is first-order accurate, which we already know is not appropriate for hyperbolic conservation laws, due to the high numerical diffusion. This poses particular difficulty near sharp gradients in the solution.\n",
    "\n",
    "To do better, we can replace the piecewise constant representation of the solution with a piecewise linear version (still discontinuous at the edges). This leads to the MUSCL scheme (for Monotonic Upstream-Centered Scheme for Conservation Laws), invented by van Leer (1979)."
   ]
  },
  {
   "cell_type": "markdown",
   "metadata": {},
   "source": [
    "### Reconstruction in space"
   ]
  },
  {
   "cell_type": "markdown",
   "metadata": {},
   "source": [
    "The piecewise linear reconstruction consists of representing the solution inside each cell with a *straight line* (see Figure 5). Define the cell representation as follows:\n",
    "\n",
    "$$\n",
    "\\begin{equation}\n",
    "e(x) = e_i + \\sigma_i (x - x_i).\n",
    "\\end{equation}\n",
    "$$\n",
    "\n",
    "where $\\sigma_i$ is the *slope* of the approximation within the cell (to be defined), and $e_i$ is the Godunov cell average. The choice $\\sigma_i=0$ gives Godunov's method.\n",
    "\n",
    "Standard central differencing would give\n",
    "\n",
    "$$\n",
    "\\begin{equation}\n",
    "\\sigma_i = \\frac{e_{i+1} - e_{i-1}}{2 \\Delta x}.\n",
    "\\end{equation}\n",
    "$$"
   ]
  },
  {
   "cell_type": "markdown",
   "metadata": {},
   "source": [
    "<img src=\"./figures/cell_boundaries.svg\">\n",
    "\n",
    "#### Figure 5. Piecewise linear approximation of the solution."
   ]
  },
  {
   "cell_type": "markdown",
   "metadata": {},
   "source": [
    "But we saw with the results [in the second lesson](https://nbviewer.jupyter.org/github/numerical-mooc/numerical-mooc/blob/master/lessons/03_wave/03_02_convectionSchemes.ipynb) that this can lead to oscillations near shocks. These [Gibbs oscillations](http://en.wikipedia.org/wiki/Gibbs_phenomenon) will always appear (according to [Godunov's theorem](http://en.wikipedia.org/wiki/Godunov's_theorem)) unless we use constant reconstruction. So we have to modify, or *limit* the slope, near shocks.\n",
    "\n",
    "The easiest way to limit is to compute one-sided slopes\n",
    "\n",
    "$$\n",
    "\\begin{equation}\n",
    "\\Delta e^- = \\frac{e_i - e_{i-1}}{\\Delta x}, \\quad \\Delta e^+ = \\frac{e_{i+1} - e_{i}}{\\Delta x}, \n",
    "\\end{equation}\n",
    "$$"
   ]
  },
  {
   "cell_type": "markdown",
   "metadata": {},
   "source": [
    "<img src=\"./figures/calc_sigma.svg\">"
   ]
  },
  {
   "cell_type": "markdown",
   "metadata": {},
   "source": [
    "#### Figure 6. One-sided slopes"
   ]
  },
  {
   "cell_type": "markdown",
   "metadata": {},
   "source": [
    "Now build the *minmod* slope\n",
    "\n",
    "$$\n",
    "\\begin{align}\n",
    "  \\sigma_i & = \\text{minmod}(\\Delta e^-, \\Delta e^+) \\\\\n",
    "  & = \\begin{cases} \\min(\\Delta e^-, \\Delta e^+) & \\text{ if } \\Delta e^-, \\Delta e^+ > 0 \\\\\n",
    "  \\max(\\Delta e^-, \\Delta e^+) & \\text{ if } \\Delta e^-, \\Delta e^+ < 0 \\\\\n",
    "0 & \\text{ if } \\Delta e^- \\cdot \\Delta e^+ \\leq 0\n",
    "  \\end{cases}\n",
    "\\end{align}\n",
    "$$\n",
    "\n",
    "That is, use the *smallest* one-sided slope in magnitude, unless the slopes have different sign, in which cases it uses the constant reconstruction (i.e., Godunov's method).\n",
    "\n",
    "Once the *minmod* slope is calculated, we can use it to obtain the values at the interfaces between cells.\n",
    "\n",
    "$$\n",
    "\\begin{align}\n",
    "e^{R}_{i-1/2} &= e_i - \\sigma_i \\frac{\\Delta x}{2}\\\\\n",
    "e^{L}_{i+1/2} &= e_i + \\sigma_i \\frac{\\Delta x}{2}\n",
    "\\end{align}\n",
    "$$\n",
    "\n",
    "where $e^R$ and $e^L$ are the local interpolated values of the conserved quantity immediately to the right and left of the cell boundary, respectively.  "
   ]
  },
  {
   "cell_type": "markdown",
   "metadata": {},
   "source": [
    "##### Index headache"
   ]
  },
  {
   "cell_type": "markdown",
   "metadata": {},
   "source": [
    "Notice that for the cell with index $i$, we calculate $e^R_{i-1/2}$ and $e^L_{i+1/2}$.  Look at Figure 5: those are the two local values of the solution are at opposite cell boundaries.\n",
    "\n",
    "However, when we calculate the local flux at the cell boundaries, we use the local solution values on either side of that cell boundary. That is:\n",
    "\n",
    "$$\n",
    "\\begin{equation}\n",
    "F_{i+1/2} = f(e^L_{i+1/2}, e^R_{i+1/2})\n",
    "\\end{equation}\n",
    "$$\n",
    "\n",
    "You can calculate two flux vectors; one for the right-boundary values and one for the left-boundary values. Be careful that you know which boundary value a given index in these two vectors might refer to!"
   ]
  },
  {
   "cell_type": "markdown",
   "metadata": {},
   "source": [
    "Here is a Python function implementing minmod."
   ]
  },
  {
   "cell_type": "code",
   "execution_count": 7,
   "metadata": {},
   "outputs": [],
   "source": [
    "def minmod(e, dx):\n",
    "    \"\"\"\n",
    "    Computes the minmod approximation of the slope.\n",
    "    \n",
    "    Parameters\n",
    "    ----------\n",
    "    e : list or numpy.ndarray\n",
    "        The input values as a 1D array of floats.\n",
    "    dx : float\n",
    "        The grid-cell width.\n",
    "    \n",
    "    Returns\n",
    "    -------\n",
    "    sigma : numpy.ndarray\n",
    "        The minmod-approximated slope\n",
    "        as a 1D array of floats.\n",
    "    \"\"\"\n",
    "    sigma = numpy.zeros_like(e)\n",
    "    for i in range(1, len(e) - 1):\n",
    "        de_minus = (e[i] - e[i - 1]) / dx\n",
    "        de_plus = (e[i + 1] - e[i]) / dx\n",
    "        if de_minus > 0 and de_plus > 0:\n",
    "            sigma[i] = min(de_minus, de_plus)\n",
    "        elif de_minus < 0 and de_plus < 0:\n",
    "            sigma[i] = max(de_minus, de_plus)\n",
    "        else:\n",
    "            sigma[i] = 0.0\n",
    "    return sigma"
   ]
  },
  {
   "cell_type": "markdown",
   "metadata": {},
   "source": [
    "### Evolution in time"
   ]
  },
  {
   "cell_type": "markdown",
   "metadata": {},
   "source": [
    "Since we are aiming for second-order accuracy in space, we might as well try for second-order in time, as well. We need a method to evolve the *ordinary* differential equation forwards in time:\n",
    "\n",
    "$$\n",
    "\\begin{equation}\n",
    "  \\frac{\\partial}{\\partial t} e_i + \\frac{1}{\\Delta x} \\left[ F \\left( x_{i+1/2}, t \\right) - F \\left( x_{i - 1 / 2}, t \\right) \\right] = 0\n",
    "\\end{equation}\n",
    "$$\n",
    "\n",
    "A second-order Runge-Kutta method with special characteristics (due to Shu & Osher, 1988) gives the following scheme:\n",
    "\n",
    "$$\n",
    "\\begin{align}\n",
    "e^*_i & = e^n_i + \\frac{\\Delta t}{\\Delta x}\\left( F^n_{i-1/2} - F^n_{i+1/2} \\right) \\\\\n",
    "e^{n+1}_i & = \\frac{1}{2} e^n_i + \\frac{1}{2}\\left( e^*_i + \\frac{\\Delta t}{\\Delta x}\\left( F^*_{i-1/2} - F^*_{i+1/2} \\right) \\right)\n",
    "\\end{align}\n",
    "$$\n",
    "\n",
    "Recall that the Rusanov flux is defined as\n",
    "                          \n",
    "$$\n",
    "F_{i+1/2}= \\frac{1}{2} \\left[ F \\left( e_L \\right) + F \\left( e_R \\right)  \\right] -  \\frac{1}{2}  \\max \\left|F'(e)\\right| \\left( e_R - e_L \\right)\n",
    "$$\n",
    "\n",
    "Armed with the interpolated values of $e$ at the cell boundaries we can generate a more accurate Rusanov flux. At cell boundary $i+1/2$, for example, this is:\n",
    "\n",
    "$$\n",
    "\\begin{equation}\n",
    "F_{i+1/2} = \\frac{1}{2} \\left( F \\left( e^L_{i+1/2} \\right) + F \\left( e^R_{i+1/2} \\right)   -  \\frac{\\Delta x}{\\Delta t} \\left( e^R_{i+1/2} - e^L_{i+1/2} \\right) \\right)\n",
    "\\end{equation}\n",
    "$$\n",
    "\n",
    "Now we are ready to try some MUSCL!"
   ]
  },
  {
   "cell_type": "code",
   "execution_count": 8,
   "metadata": {},
   "outputs": [],
   "source": [
    "def muscl(rho0, nt, dt, dx, bc_values, *args):\n",
    "    \"\"\"\n",
    "    Computes and returns the history of the traffic density\n",
    "    on the road using a MUSCL scheme with a minmod slope limiting\n",
    "    and a Lax-Friedrichs flux.\n",
    "    The function uses a second-order Runge-Kutta method\n",
    "    to integrate in time.\n",
    "    \n",
    "    Parameters\n",
    "    ----------\n",
    "    rho0 : numpy.ndarray\n",
    "        The initial traffic density along the road\n",
    "        as a 1D array of floats.\n",
    "    nt : integer\n",
    "        The number of time steps to compute.\n",
    "    dt : float\n",
    "        The time-step size to integrate.\n",
    "    dx : float\n",
    "        The distance between two consecutive locations.\n",
    "    bc_values : tuple or list\n",
    "        The value of the density at the first and last locations\n",
    "        as a tuple or list of two floats.\n",
    "    args : list\n",
    "        Positional arguments to be passed to the flux function.\n",
    "    \n",
    "    Returns\n",
    "    -------\n",
    "    rho_all : list of numpy.ndarray objects\n",
    "        History of the car density along the road\n",
    "        as a list of 1D array of floats.\n",
    "    \"\"\"\n",
    "    def compute_flux(rho):\n",
    "        # Compute the minmod slope.\n",
    "        sigma = minmod(rho, dx)\n",
    "        # Reconstruct values at cell boundaries.\n",
    "        rhoL = (rho + sigma * dx / 2.0)[:-1]\n",
    "        rhoR = (rho - sigma * dx / 2.0)[1:]\n",
    "        # Compute the flux.\n",
    "        F = 0.5 * (flux(rhoL, *args) + flux(rhoR, *args) -\n",
    "                   dx / dt * (rhoR - rhoL))\n",
    "        return F\n",
    "    rho_all = [rho0.copy()]\n",
    "    rho = rho0.copy()\n",
    "    rho_star = rho.copy()\n",
    "    for n in range(nt):\n",
    "        # Compute the flux at cell boundaries.\n",
    "        F = compute_flux(rho)\n",
    "        # Perform 1st step of RK2.\n",
    "        rho_star[1:-1] = rho[1:-1] - dt / dx * (F[1:] - F[:-1])\n",
    "        # Apply boundary conditions.\n",
    "        rho_star[0], rho_star[-1] = bc_values\n",
    "        # Compute the flux at cell boundaries.\n",
    "        F = compute_flux(rho_star)\n",
    "        # Perform 2nd step of RK2.\n",
    "        rho[1:-1] = 0.5 * (rho[1:-1] + rho_star[1:-1] -\n",
    "                           dt / dx * (F[1:] - F[:-1]))\n",
    "        # Apply boundary conditions.\n",
    "        rho[0], rho[-1] = bc_values\n",
    "        # Record the time-step solution.\n",
    "        rho_all.append(rho.copy())\n",
    "    return rho_all"
   ]
  },
  {
   "cell_type": "code",
   "execution_count": 9,
   "metadata": {},
   "outputs": [
    {
     "data": {
      "application/vnd.jupyter.widget-view+json": {
       "model_id": "5f23981899844e98bdb82a9098bedc04",
       "version_major": 2,
       "version_minor": 0
      },
      "text/plain": [
       "interactive(children=(IntSlider(value=0, description='time step', max=30), Output()), _dom_classes=('widget-in…"
      ]
     },
     "metadata": {},
     "output_type": "display_data"
    }
   ],
   "source": [
    "# Set time-step size based on CFL limit.\n",
    "sigma = 1.0\n",
    "dt = sigma * dx / u_max  # time-step size\n",
    "\n",
    "# Compute the traffic density at all time steps.\n",
    "rho_all = muscl(rho0, nt, dt, dx, (rho0[0], rho0[-1]),\n",
    "                u_max, rho_max)\n",
    "\n",
    "# Create and display an interactive figure.\n",
    "display(interactive_traffic(x, rho_all))"
   ]
  },
  {
   "cell_type": "markdown",
   "metadata": {},
   "source": [
    "This MUSCL scheme does not show any of the oscillations you might see with MacCormack or Lax-Wendroff, but the features are not as sharp. Using the _minmod_ slopes led to some smearing of the shock, which motivated many researchers to investigate other options. Bucketloads of so-called _shock-capturing_ schemes exist and whole books are written on this topic. Some people dedicate their lives to developing numerical methods for hyperbolic equations!"
   ]
  },
  {
   "cell_type": "markdown",
   "metadata": {},
   "source": [
    "##### Challenge task"
   ]
  },
  {
   "cell_type": "markdown",
   "metadata": {},
   "source": [
    "* Go back to Sod! Calculate the shock-tube problem using the MUSCL scheme and compare with your previous results. What do think?"
   ]
  },
  {
   "cell_type": "markdown",
   "metadata": {},
   "source": [
    "## References"
   ]
  },
  {
   "cell_type": "markdown",
   "metadata": {},
   "source": [
    "* Godunov, S.K. (1959), \"A difference scheme for numerical computation of discontinuous solutions of equations of fluid dynamics,\" _Math. Sbornik_, Vol. 47, pp. 271–306.\n",
    "\n",
    "* van Leer, Bram (1979), \"Towards the ultimate conservative difference scheme, V. A second-order sequel to Godunov's method,\" _J. Comput. Phys._, Vol. 32, pp. 101–136\n",
    "\n",
    "* van Leer, B., J.L. Thomas, P.L. Roe, R.W. Newsome (1987). \"A comparison of numerical flux formulas for the Euler and Navier-Stokes equations,\" AIAA paper 87-1104 // [PDF from umich.edu](http://deepblue.lib.umich.edu/bitstream/handle/2027.42/76365/AIAA-1987-1104-891.pdf), checked 11/01/14.\n",
    "\n",
    "* Shu, Chi-Wang and Osher, Stanley (1988). \"Efficient implementation of essentially non-oscillatory shock-capturing schemes,\" _J. Comput. Phys._, Vol. 77, pp. 439–471 // [PDF from NASA Tech. Report server](http://ntrs.nasa.gov/archive/nasa/casi.ntrs.nasa.gov/19870013797.pdf)"
   ]
  },
  {
   "cell_type": "markdown",
   "metadata": {},
   "source": [
    "---\n",
    "\n",
    "###### The cell below loads the style of the notebook."
   ]
  },
  {
   "cell_type": "code",
   "execution_count": 10,
   "metadata": {},
   "outputs": [
    {
     "data": {
      "text/html": [
       "<link href='http://fonts.googleapis.com/css?family=Alegreya+Sans:100,300,400,500,700,800,900,100italic,300italic,400italic,500italic,700italic,800italic,900italic' rel='stylesheet' type='text/css'>\n",
       "<link href='http://fonts.googleapis.com/css?family=Arvo:400,700,400italic' rel='stylesheet' type='text/css'>\n",
       "<link href='http://fonts.googleapis.com/css?family=PT+Mono' rel='stylesheet' type='text/css'>\n",
       "<link href='http://fonts.googleapis.com/css?family=Shadows+Into+Light' rel='stylesheet' type='text/css'>\n",
       "<link href='http://fonts.googleapis.com/css?family=Nixie+One' rel='stylesheet' type='text/css'>\n",
       "<link href='https://fonts.googleapis.com/css?family=Source+Code+Pro' rel='stylesheet' type='text/css'>\n",
       "<style>\n",
       "\n",
       "@font-face {\n",
       "    font-family: \"Computer Modern\";\n",
       "    src: url('http://mirrors.ctan.org/fonts/cm-unicode/fonts/otf/cmunss.otf');\n",
       "}\n",
       "\n",
       "#notebook_panel { /* main background */\n",
       "    background: rgb(245,245,245);\n",
       "}\n",
       "\n",
       "div.cell { /* set cell width */\n",
       "    width: 750px;\n",
       "}\n",
       "\n",
       "div #notebook { /* centre the content */\n",
       "    background: #fff; /* white background for content */\n",
       "    width: 1000px;\n",
       "    margin: auto;\n",
       "    padding-left: 0em;\n",
       "}\n",
       "\n",
       "#notebook li { /* More space between bullet points */\n",
       "    margin-top:0.8em;\n",
       "}\n",
       "\n",
       "/* draw border around running cells */\n",
       "div.cell.border-box-sizing.code_cell.running { \n",
       "    border: 1px solid #111;\n",
       "}\n",
       "\n",
       "/* Put a solid color box around each cell and its output, visually linking them*/\n",
       "div.cell.code_cell {\n",
       "    background-color: rgb(256,256,256); \n",
       "    border-radius: 0px; \n",
       "    padding: 0.5em;\n",
       "    margin-left:1em;\n",
       "    margin-top: 1em;\n",
       "}\n",
       "\n",
       "div.text_cell_render{\n",
       "    font-family: 'Alegreya Sans' sans-serif;\n",
       "    line-height: 140%;\n",
       "    font-size: 125%;\n",
       "    font-weight: 400;\n",
       "    width:600px;\n",
       "    margin-left:auto;\n",
       "    margin-right:auto;\n",
       "}\n",
       "\n",
       "\n",
       "/* Formatting for header cells */\n",
       ".text_cell_render h1 {\n",
       "    font-family: 'Nixie One', serif;\n",
       "    font-style:regular;\n",
       "    font-weight: 400;    \n",
       "    font-size: 45pt;\n",
       "    line-height: 100%;\n",
       "    color: rgb(0,51,102);\n",
       "    margin-bottom: 0.5em;\n",
       "    margin-top: 0.5em;\n",
       "    display: block;\n",
       "}\n",
       "\n",
       ".text_cell_render h2 {\n",
       "    font-family: 'Nixie One', serif;\n",
       "    font-weight: 400;\n",
       "    font-size: 30pt;\n",
       "    line-height: 100%;\n",
       "    color: rgb(0,51,102);\n",
       "    margin-bottom: 0.1em;\n",
       "    margin-top: 0.3em;\n",
       "    display: block;\n",
       "}\t\n",
       "\n",
       ".text_cell_render h3 {\n",
       "    font-family: 'Nixie One', serif;\n",
       "    margin-top:16px;\n",
       "    font-size: 22pt;\n",
       "    font-weight: 600;\n",
       "    margin-bottom: 3px;\n",
       "    font-style: regular;\n",
       "    color: rgb(102,102,0);\n",
       "}\n",
       "\n",
       ".text_cell_render h4 {    /*Use this for captions*/\n",
       "    font-family: 'Nixie One', serif;\n",
       "    font-size: 14pt;\n",
       "    text-align: center;\n",
       "    margin-top: 0em;\n",
       "    margin-bottom: 2em;\n",
       "    font-style: regular;\n",
       "}\n",
       "\n",
       ".text_cell_render h5 {  /*Use this for small titles*/\n",
       "    font-family: 'Nixie One', sans-serif;\n",
       "    font-weight: 400;\n",
       "    font-size: 16pt;\n",
       "    color: rgb(163,0,0);\n",
       "    font-style: italic;\n",
       "    margin-bottom: .1em;\n",
       "    margin-top: 0.8em;\n",
       "    display: block;\n",
       "}\n",
       "\n",
       ".text_cell_render h6 { /*use this for copyright note*/\n",
       "    font-family: 'PT Mono', sans-serif;\n",
       "    font-weight: 300;\n",
       "    font-size: 9pt;\n",
       "    line-height: 100%;\n",
       "    color: grey;\n",
       "    margin-bottom: 1px;\n",
       "    margin-top: 1px;\n",
       "}\n",
       "\n",
       ".CodeMirror{\n",
       "    font-family: \"Source Code Pro\";\n",
       "    font-size: 90%;\n",
       "}\n",
       "\n",
       ".alert-box {\n",
       "    padding:10px 10px 10px 36px;\n",
       "    margin:5px;\n",
       "}\n",
       "\n",
       ".success {\n",
       "    color:#666600;\n",
       "    background:rgb(240,242,229);\n",
       "}\n",
       "</style>\n",
       "\n",
       "<script>\n",
       "    MathJax.Hub.Config({\n",
       "                        TeX: {\n",
       "                            extensions: [\"AMSmath.js\"],\n",
       "                            equationNumbers: { autoNumber: \"AMS\", useLabelIds: true}\n",
       "                            },\n",
       "                        tex2jax: {\n",
       "                            inlineMath: [ ['$','$'], [\"\\\\(\",\"\\\\)\"] ],\n",
       "                            displayMath: [ ['$$','$$'], [\"\\\\[\",\"\\\\]\"] ]\n",
       "                            },\n",
       "                        displayAlign: 'center', // Change this to 'center' to center equations.\n",
       "                        \"HTML-CSS\": {\n",
       "                            styles: {'.MathJax_Display': {\"margin\": 4}}\n",
       "                            }\n",
       "                        });\n",
       "    MathJax.Hub.Queue(\n",
       "                      [\"resetEquationNumbers\", MathJax.InputJax.TeX],\n",
       "                      [\"PreProcess\", MathJax.Hub],\n",
       "                      [\"Reprocess\", MathJax.Hub]\n",
       "                     );\n",
       "</script>\n"
      ],
      "text/plain": [
       "<IPython.core.display.HTML object>"
      ]
     },
     "execution_count": 10,
     "metadata": {},
     "output_type": "execute_result"
    }
   ],
   "source": [
    "from IPython.core.display import HTML\n",
    "css_file = '../../styles/numericalmoocstyle.css'\n",
    "HTML(open(css_file, 'r').read())"
   ]
  }
 ],
 "metadata": {
  "kernelspec": {
   "display_name": "Python 3 (MOOC)",
   "language": "python",
   "name": "py36-mooc"
  },
  "language_info": {
   "codemirror_mode": {
    "name": "ipython",
    "version": 3
   },
   "file_extension": ".py",
   "mimetype": "text/x-python",
   "name": "python",
   "nbconvert_exporter": "python",
   "pygments_lexer": "ipython3",
   "version": "3.6.5"
  }
 },
 "nbformat": 4,
 "nbformat_minor": 1
}
