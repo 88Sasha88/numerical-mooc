{
 "cells": [
  {
   "cell_type": "markdown",
   "metadata": {},
   "source": [
    "###### Content under Creative Commons Attribution license CC-BY 4.0, code under MIT license (c)2014 L.A. Barba, C.D. Cooper, G.F. Forsyth."
   ]
  },
  {
   "cell_type": "markdown",
   "metadata": {},
   "source": [
    "# Riding the wave"
   ]
  },
  {
   "cell_type": "markdown",
   "metadata": {},
   "source": [
    "We've reached the third lesson of the module _Riding the wave: Convection problems_, where we explore the numerical solution of conservation laws. We learned in the [first lesson](https://nbviewer.jupyter.org/github/numerical-mooc/numerical-mooc/blob/master/lessons/03_wave/03_01_conservationLaw.ipynb) how to think about conservation laws, starting with the most intuitive case: that of conservation of mass. But there are many physical quantities that can be conserved: energy, for example. Or cars on a road.\n",
    "\n",
    "Developing a conservation law for traffic in a one-lane roadway is fun, because we can relate to the insights it gives. We've all experienced traffic slowing down to a crawl when the density of cars gets very high, and stepping on the accelerator pedal with glee when there are no cars on the road!\n",
    "\n",
    "In the previous two lessons, we developed a traffic-flow model and explored [different choices of numerical scheme](https://nbviewer.jupyter.org/github/numerical-mooc/numerical-mooc/blob/master/lessons/03_wave/03_02_convectionSchemes.ipynb).  Not everything worked as you expected, and by now you might be realizing how some restrictions come about from the numerical methods themselves, while others still are imposed by the models we use. This lesson will develop a better traffic model, and also show you some impressive SymPy kung-fu."
   ]
  },
  {
   "cell_type": "markdown",
   "metadata": {},
   "source": [
    "## Traffic flow, revisited"
   ]
  },
  {
   "cell_type": "markdown",
   "metadata": {},
   "source": [
    "### A better flux model"
   ]
  },
  {
   "cell_type": "markdown",
   "metadata": {},
   "source": [
    "Like you saw in the first lesson, cars obey a typical conservation law,\n",
    "\n",
    "$$\n",
    "\\begin{equation}\n",
    "\\frac{\\partial \\rho}{\\partial t} + \\frac{\\partial F}{\\partial x} = 0\n",
    "\\end{equation}\n",
    "$$\n",
    "\n",
    "where $F$ is the flux, $F=\\rho u$—flux equals density times velocity. From our experience on the road, we know that the traffic speed is a function of traffic density, and we proposed as a first approximation a linear relation between the two. Thus,\n",
    "\n",
    "$$\n",
    "\\begin{equation}\n",
    "F(\\rho) = \\rho \\, u_{max}\\left(1 - \\frac{\\rho}{\\rho_{max}} \\right)\n",
    "\\end{equation}\n",
    "$$\n",
    "\n",
    "This flux model meets the two requirements, based on a qualitative view of traffic flow, that:\n",
    "1. $u \\rightarrow u_{max}$ and $F\\rightarrow 0$ when $\\rho \\rightarrow 0$.\n",
    "2. $u \\rightarrow 0$ as $\\rho \\rightarrow \\rho_{max}$\n",
    "\n",
    "However, it leads to some unrealistic or at least improbable results.  For example, note that if the traffic speed is a linear function of density, the flux function will be quadratic (see Figure 1). In this case, the maximum flux will occur when $\\rho^{\\star} = \\rho_{max}/2$, corresponding to a traffic speed $u_{max}/2$.  "
   ]
  },
  {
   "cell_type": "markdown",
   "metadata": {},
   "source": [
    "![velocity_and_flux](./figures/velocity_and_flux.png)\n",
    "#### Figure 1. Traffic speed (left) and flux (right) vs. density."
   ]
  },
  {
   "cell_type": "markdown",
   "metadata": {},
   "source": [
    "A good question to ask here is:  should the maximum flux on a given stretch of road have a strict dependence on the maximum speed that the roadway allows, be it by physical restrictions or posted speed limits? In other words, do we really expect the maximum flux to increase if we allow arbitrarily high speeds? \n",
    "\n",
    "Probably not.  But there *should* be some ideal traffic speed, $u^{\\star}$, corresponding to an ideal traffic density, $\\rho^{\\star}$, resulting in the maximum traffic flux:\n",
    "\n",
    "$$\n",
    "\\begin{equation}\n",
    "F_{\\rm max} = \\rho^{\\star}u^{\\star}\n",
    "\\end{equation}\n",
    "$$\n",
    "\n",
    "Let us improve the initial flux model by taking this observation into account. One thing that we can try is to introduce a flux model that is cubic in $\\rho$ instead of quadratic:\n",
    "\n",
    "$$\n",
    "\\begin{equation}\n",
    "F(\\rho) = u_{\\rm max}\\rho (1 - A\\rho - B \\rho^2)\n",
    "\\end{equation}\n",
    "$$\n",
    "\n",
    "This new model still meets the first criterion listed above: $F\\rightarrow 0$ when $\\rho \\rightarrow 0$. Moreover, we impose the following conditions:\n",
    "\n",
    "* When $\\rho = \\rho_{\\rm max}$ traffic flux goes to zero:\n",
    "\n",
    "$$\n",
    "\\begin{equation}\n",
    "F(\\rho_{\\rm max}) = 0 = u_{\\rm max}\\, \\rho_{\\rm max}(1 - A \\rho_{\\rm max} - B \\rho_{\\rm max}^2)\n",
    "\\end{equation}\n",
    "$$\n",
    "\n",
    "* Based on eq. (3), maximum flux occurs when $\\rho = \\rho^{\\star}$ and $F'(\\rho^{\\star}) = 0$:\n",
    "\n",
    "$$\n",
    "\\begin{equation}\n",
    "F'(\\rho^{\\star}) = 0  = u_{\\rm max}(1 - 2A\\rho^{\\star} - 3B(\\rho^{\\star})^2)\n",
    "\\end{equation}\n",
    "$$\n",
    "\n",
    "* $u^{\\star}$ is obtained when $\\rho = \\rho^{\\star}$:\n",
    "\n",
    "$$\n",
    "\\begin{equation}\n",
    "u^{\\star} = u_{\\rm max}(1 - A \\rho^{\\star} - B(\\rho^{\\star})^2)\n",
    "\\end{equation}\n",
    "$$\n",
    "\n",
    "We have three equations and four unknowns $A,B,\\rho^{\\star}, u^{\\star}$. However, in practice, the ideal traffic speed could be obtained for a given road by observations. Similarly to $u_{max}$ and $\\rho_{max}$ it will therefore be taken as a parameter."
   ]
  },
  {
   "cell_type": "markdown",
   "metadata": {},
   "source": [
    "### Solving the new flux equation"
   ]
  },
  {
   "cell_type": "markdown",
   "metadata": {},
   "source": [
    "Equations $(5)$, $(6)$, and $(7)$ are not incredibly difficult to solve with pen and paper. Instead of following that route, we can use [SymPy](http://sympy.org/en/index.html), the symbolic mathematics library of Python.  You used SymPy already in the [Burgers' equation lesson](https://nbviewer.jupyter.org/github/numerical-mooc/numerical-mooc/blob/master/lessons/02_spacetime/02_04_1DBurgers.ipynb) of Module 2, _\"Space & Time\"_, and you will learn some new functionalities here.\n",
    "\n",
    "We begin by importing SymPy, initializing $\\LaTeX$ printing and defining a set of symbolic variables that we'll use in the calculations. Remember: variables are not defined automatically, you have to tell SymPy that a name will correspond to a symbolic variable by using the keyword `symbols`. This behavior is different from many other symbolic math systems that implicitly construct symbols for you, so you may be perplexed if you've used these other sytems before. The reason for this behavior in SymPy is that the system is fully built on Python, a general-purpose language that needs you to define all objects before using them."
   ]
  },
  {
   "cell_type": "code",
   "execution_count": 1,
   "metadata": {},
   "outputs": [],
   "source": [
    "import sympy\n",
    "sympy.init_printing()\n",
    "\n",
    "(u_max, u_star, rho_max,\n",
    " rho_star, A, B) = sympy.symbols('u_max u_star rho_max rho_star A B')"
   ]
  },
  {
   "cell_type": "markdown",
   "metadata": {},
   "source": [
    "Notice that we used the special character `_` (the under-dash) to create a symbol with a subscript. Here, for example, we've created the symbols $u_{max}$ and $u_{star}$, representing $u_{\\rm max}$ and $u^{\\star}$ ($u$-star) in the equations, and assigned them to the variable names `u_max` and `u_star`. SymPy also allows you to create symbols with a superscript by means of the special character `^`. Be careful, though: SymPy is built on Python, so you denote an exponent in an expression by `**` (this may also be different from other symbolic math systems that you have used in the past).\n",
    "\n",
    "Next, use `sympy.Eq()` to define the three equations—corresponding to Equations $(5)$, $(6)$ and $(7)$, above—in terms of symbolic variables. The function `sympy.Eq()` creates an equality between two SymPy objects, passed as arguments separated by a comma. We need to remember that the equal sign in Python is used for variable assignment, and for that reason it cannot be used to build a symbolic equation with SymPy. That is why we need `sympy.Eq()` to create symbolic equalities. But the equal sign _is_ used to _assign_ an equation to a name: here, `eq1`, `eq2`, `eq3` are names for the symbolic equalities we create with `sympy.Eq()`."
   ]
  },
  {
   "cell_type": "code",
   "execution_count": 2,
   "metadata": {},
   "outputs": [],
   "source": [
    "eq1 = sympy.Eq(0, u_max * rho_max * (1 - A * rho_max - B * rho_max**2))\n",
    "eq2 = sympy.Eq(0, u_max * (1 - 2 * A * rho_star - 3 * B * rho_star**2))\n",
    "eq3 = sympy.Eq(u_star, u_max * (1 - A * rho_star - B * rho_star**2))"
   ]
  },
  {
   "cell_type": "markdown",
   "metadata": {},
   "source": [
    "Check this out: you can display these equations in pretty typeset mathematics just by executing their name in a code cell:"
   ]
  },
  {
   "cell_type": "code",
   "execution_count": 3,
   "metadata": {},
   "outputs": [
    {
     "data": {
      "image/png": "[encoded data removed]",
      "text/latex": [
       "$$0 = \\rho_{max} u_{max} \\left(- A \\rho_{max} - B \\rho_{max}^{2} + 1\\right)$$"
      ],
      "text/plain": [
       "              ⎛                2    ⎞\n",
       "0 = ρₘₐₓ⋅uₘₐₓ⋅⎝-A⋅ρₘₐₓ - B⋅ρₘₐₓ  + 1⎠"
      ]
     },
     "execution_count": 3,
     "metadata": {},
     "output_type": "execute_result"
    }
   ],
   "source": [
    "eq1"
   ]
  },
  {
   "cell_type": "code",
   "execution_count": 4,
   "metadata": {},
   "outputs": [
    {
     "data": {
      "image/png": "[encoded data removed]",
      "text/latex": [
       "$$0 = u_{max} \\left(- 2 A \\rho_{star} - 3 B \\rho_{star}^{2} + 1\\right)$$"
      ],
      "text/plain": [
       "         ⎛                      2    ⎞\n",
       "0 = uₘₐₓ⋅⎝-2⋅A⋅ρₛₜₐᵣ - 3⋅B⋅ρₛₜₐᵣ  + 1⎠"
      ]
     },
     "execution_count": 4,
     "metadata": {},
     "output_type": "execute_result"
    }
   ],
   "source": [
    "eq2"
   ]
  },
  {
   "cell_type": "code",
   "execution_count": 5,
   "metadata": {},
   "outputs": [
    {
     "data": {
      "image/png": "[encoded data removed]",
      "text/latex": [
       "$$u_{star} = u_{max} \\left(- A \\rho_{star} - B \\rho_{star}^{2} + 1\\right)$$"
      ],
      "text/plain": [
       "             ⎛                  2    ⎞\n",
       "uₛₜₐᵣ = uₘₐₓ⋅⎝-A⋅ρₛₜₐᵣ - B⋅ρₛₜₐᵣ  + 1⎠"
      ]
     },
     "execution_count": 5,
     "metadata": {},
     "output_type": "execute_result"
    }
   ],
   "source": [
    "eq3"
   ]
  },
  {
   "cell_type": "markdown",
   "metadata": {},
   "source": [
    "As stressed above, we have three equations with three unknowns (assuming we have some observed value of $u_{star}$, corresponding to the ideal traffic speed)—there must be a solution!\n",
    "\n",
    "To eliminate the term with $B$ in `eq2`, leaving it only in terms of $A$ and $\\rho^{\\star}$, we might subtract `3*eq3`.  But this will not work in SymPy if you attempt equation subtraction using the equation names. Just like we couldn't use the equal sign (which in Python means assignment) to create a symbolic equality (needing `sympy.Eq` instead), we can't use mathematical operators directly on the SymPy equations, because they are really _equalities_. What does it mean to subtract two _equalities_? It doesn't make sense. Try it ..."
   ]
  },
  {
   "cell_type": "code",
   "execution_count": 6,
   "metadata": {},
   "outputs": [
    {
     "data": {
      "image/png": "[encoded data removed]",
      "text/latex": [
       "$$\\left(0 = u_{max} \\left(- 2 A \\rho_{star} - 3 B \\rho_{star}^{2} + 1\\right)\\right) - 3 \\left(u_{star} = u_{max} \\left(- A \\rho_{star} - B \\rho_{star}^{2} + 1\\right)\\right)$$"
      ],
      "text/plain": [
       "⎛         ⎛                      2    ⎞⎞     ⎛             ⎛                  \n",
       "⎝0 = uₘₐₓ⋅⎝-2⋅A⋅ρₛₜₐᵣ - 3⋅B⋅ρₛₜₐᵣ  + 1⎠⎠ - 3⋅⎝uₛₜₐᵣ = uₘₐₓ⋅⎝-A⋅ρₛₜₐᵣ - B⋅ρₛₜₐᵣ\n",
       "\n",
       "2    ⎞⎞\n",
       "  + 1⎠⎠"
      ]
     },
     "execution_count": 6,
     "metadata": {},
     "output_type": "execute_result"
    }
   ],
   "source": [
    "eq2 - 3 * eq3"
   ]
  },
  {
   "cell_type": "markdown",
   "metadata": {},
   "source": [
    "See?  SymPy just printed out what you suggested but it did not manipulate algebraically the left and right sides of `eq2` like we were aiming for. What we _can_ do is create a _new_ equation, perform the left-hand side (LHS) and right-hand side (RHS) operations separately and then recombine them into our desired result. For this, it is helpful to know that there are built-in properties of a SymPy equality for the left-hand side and the right-hand side of the equality. Check it out:"
   ]
  },
  {
   "cell_type": "code",
   "execution_count": 7,
   "metadata": {},
   "outputs": [
    {
     "data": {
      "image/png": "[encoded data removed]",
      "text/latex": [
       "$$- 3 u_{star} = u_{max} \\left(- 2 A \\rho_{star} - 3 B \\rho_{star}^{2} + 1\\right) - 3 u_{max} \\left(- A \\rho_{star} - B \\rho_{star}^{2} + 1\\right)$$"
      ],
      "text/plain": [
       "                ⎛                      2    ⎞          ⎛                  2   \n",
       "-3⋅uₛₜₐᵣ = uₘₐₓ⋅⎝-2⋅A⋅ρₛₜₐᵣ - 3⋅B⋅ρₛₜₐᵣ  + 1⎠ - 3⋅uₘₐₓ⋅⎝-A⋅ρₛₜₐᵣ - B⋅ρₛₜₐᵣ  + \n",
       "\n",
       " ⎞\n",
       "1⎠"
      ]
     },
     "execution_count": 7,
     "metadata": {},
     "output_type": "execute_result"
    }
   ],
   "source": [
    "eq4 = sympy.Eq(eq2.lhs - 3 * eq3.lhs, eq2.rhs - 3 * eq3.rhs)\n",
    "eq4"
   ]
  },
  {
   "cell_type": "markdown",
   "metadata": {},
   "source": [
    "That still needs a little work. SymPy offers several methods to help reduce expressions. You can use [`simplify()`](http://docs.sympy.org/latest/modules/simplify/simplify.html?highlight=simplify#sympy.simplify.simplify.simplify) to attempt to make the expression \"simpler,\" but you can imagine that the quality of an expression being simple is not well defined. One may expect the simpler expression to be shorter, maybe; but not always. The SymPy `simplify()` function applies several strategies, heuristically, to give you an equivalent reduced expression. But some expressions are uncooperative and `simplify()` gives up, returning the argument unchanged. Let's see what it can do with our expression `eq4`."
   ]
  },
  {
   "cell_type": "code",
   "execution_count": 8,
   "metadata": {},
   "outputs": [
    {
     "data": {
      "image/png": "[encoded data removed]",
      "text/latex": [
       "$$3 u_{star} = - u_{max} \\left(A \\rho_{star} - 2\\right)$$"
      ],
      "text/plain": [
       "3⋅uₛₜₐᵣ = -uₘₐₓ⋅(A⋅ρₛₜₐᵣ - 2)"
      ]
     },
     "execution_count": 8,
     "metadata": {},
     "output_type": "execute_result"
    }
   ],
   "source": [
    "eq4.simplify()"
   ]
  },
  {
   "cell_type": "markdown",
   "metadata": {},
   "source": [
    "That is actually a useful result. We see that `eq4` allows solving for $\\rho^{\\star}$ in terms of $A$, for example (remember that $u_{max}$ is known: the road's maximum velocity). Then we could try to manipulate `eq1` to solve for $B$ in terms of $A$, as well, so that we can substitute back in `eq2` leaving everything in terms of $A$. We can do all that without the help of `simplify()`, but using it interactively to reason about the long expression helped us to decide on a course of action.\n",
    "\n",
    "Another SymPy function that can help us examine complicated expressions is [`expand()`](http://docs.sympy.org/latest/modules/core.html?highlight=expand#sympy.core.function.expand). Its purpose is to expand bracketed factors in expressions and group powers of symbols. Let's see what that does here. Notice first that `eq4` hasn't changed; we just printed the result of applying `simplify()` to it."
   ]
  },
  {
   "cell_type": "code",
   "execution_count": 9,
   "metadata": {},
   "outputs": [
    {
     "data": {
      "image/png": "[encoded data removed]",
      "text/latex": [
       "$$- 3 u_{star} = u_{max} \\left(- 2 A \\rho_{star} - 3 B \\rho_{star}^{2} + 1\\right) - 3 u_{max} \\left(- A \\rho_{star} - B \\rho_{star}^{2} + 1\\right)$$"
      ],
      "text/plain": [
       "                ⎛                      2    ⎞          ⎛                  2   \n",
       "-3⋅uₛₜₐᵣ = uₘₐₓ⋅⎝-2⋅A⋅ρₛₜₐᵣ - 3⋅B⋅ρₛₜₐᵣ  + 1⎠ - 3⋅uₘₐₓ⋅⎝-A⋅ρₛₜₐᵣ - B⋅ρₛₜₐᵣ  + \n",
       "\n",
       " ⎞\n",
       "1⎠"
      ]
     },
     "execution_count": 9,
     "metadata": {},
     "output_type": "execute_result"
    }
   ],
   "source": [
    "eq4"
   ]
  },
  {
   "cell_type": "markdown",
   "metadata": {},
   "source": [
    "And now we print the result of applying `expand()` to it."
   ]
  },
  {
   "cell_type": "code",
   "execution_count": 10,
   "metadata": {},
   "outputs": [
    {
     "data": {
      "image/png": "[encoded data removed]",
      "text/latex": [
       "$$- 3 u_{star} = A \\rho_{star} u_{max} - 2 u_{max}$$"
      ],
      "text/plain": [
       "-3⋅uₛₜₐᵣ = A⋅ρₛₜₐᵣ⋅uₘₐₓ - 2⋅uₘₐₓ"
      ]
     },
     "execution_count": 10,
     "metadata": {},
     "output_type": "execute_result"
    }
   ],
   "source": [
    "eq4.expand()"
   ]
  },
  {
   "cell_type": "markdown",
   "metadata": {},
   "source": [
    "That's very similar to our previous result, except without the bracketed factor. Simplifying an expression can be accomplished by expanding or factoring terms, or a combination of the two. Whether to `simplify()` or `expand()` depends on the situation and you just have to experiment.\n",
    "\n",
    "We now have an idea of what to do with our three equations. We'll get expressions in terms of $A$ from `eq4` and `eq1` and substitute them back into `eq2`. For that, we can use the SymPy functions [`solve()`](http://docs.sympy.org/dev/modules/solvers/solvers.html#sympy.solvers.solvers.solve) and `subs()`, respectively. The arguments to `solve()` are the equality that needs to be solved, and the symbol to solve for.\n",
    "\n",
    "**Note**: `sympy.solve()` always returns results in a *list*, since you often end up with multiple solutions for a given variable.  These linear equations will only return one solution, so we can skip a step and ask right away for the `[0]`-th element of the list."
   ]
  },
  {
   "cell_type": "code",
   "execution_count": 11,
   "metadata": {},
   "outputs": [
    {
     "data": {
      "image/png": "[encoded data removed]",
      "text/latex": [
       "$$\\frac{1}{A u_{max}} \\left(2 u_{max} - 3 u_{star}\\right)$$"
      ],
      "text/plain": [
       "2⋅uₘₐₓ - 3⋅uₛₜₐᵣ\n",
       "────────────────\n",
       "     A⋅uₘₐₓ     "
      ]
     },
     "execution_count": 11,
     "metadata": {},
     "output_type": "execute_result"
    }
   ],
   "source": [
    "rho_sol = sympy.solve(eq4, rho_star)[0]\n",
    "rho_sol"
   ]
  },
  {
   "cell_type": "code",
   "execution_count": 12,
   "metadata": {},
   "outputs": [
    {
     "data": {
      "image/png": "[encoded data removed]",
      "text/latex": [
       "$$\\frac{1}{\\rho_{max}^{2}} \\left(- A \\rho_{max} + 1\\right)$$"
      ],
      "text/plain": [
       "-A⋅ρₘₐₓ + 1\n",
       "───────────\n",
       "       2   \n",
       "   ρₘₐₓ    "
      ]
     },
     "execution_count": 12,
     "metadata": {},
     "output_type": "execute_result"
    }
   ],
   "source": [
    "B_sol = sympy.solve(eq1, B)[0]\n",
    "B_sol"
   ]
  },
  {
   "cell_type": "markdown",
   "metadata": {},
   "source": [
    "The arguments to the SymPy function [`subs()`](http://docs.sympy.org/dev/modules/core.html#sympy.core.basic.Basic.subs) are given as (old, new) pairs, where the \"new\" expression substitutes the \"old\" one. So here, in `eq2`, we substitute `rho_sol` in place of `rho_star` and we substitute `B_sol` in place of `B`."
   ]
  },
  {
   "cell_type": "code",
   "execution_count": 13,
   "metadata": {},
   "outputs": [
    {
     "data": {
      "image/png": "[encoded data removed]",
      "text/latex": [
       "$$0 = u_{max} \\left(1 - \\frac{2}{u_{max}} \\left(2 u_{max} - 3 u_{star}\\right) - \\frac{3 \\left(2 u_{max} - 3 u_{star}\\right)^{2}}{A^{2} \\rho_{max}^{2} u_{max}^{2}} \\left(- A \\rho_{max} + 1\\right)\\right)$$"
      ],
      "text/plain": [
       "         ⎛                                               2              ⎞\n",
       "         ⎜    2⋅(2⋅uₘₐₓ - 3⋅uₛₜₐᵣ)   3⋅(2⋅uₘₐₓ - 3⋅uₛₜₐᵣ) ⋅(-A⋅ρₘₐₓ + 1)⎟\n",
       "0 = uₘₐₓ⋅⎜1 - ──────────────────── - ───────────────────────────────────⎟\n",
       "         ⎜            uₘₐₓ                       2     2     2          ⎟\n",
       "         ⎝                                      A ⋅ρₘₐₓ ⋅uₘₐₓ           ⎠"
      ]
     },
     "execution_count": 13,
     "metadata": {},
     "output_type": "execute_result"
    }
   ],
   "source": [
    "quadA = eq2.subs([(rho_star, rho_sol), (B, B_sol)])\n",
    "quadA"
   ]
  },
  {
   "cell_type": "code",
   "execution_count": 14,
   "metadata": {},
   "outputs": [
    {
     "data": {
      "image/png": "[encoded data removed]",
      "text/latex": [
       "$$- 3 u_{max} + 6 u_{star} + \\frac{3 \\left(2 u_{max} - 3 u_{star}\\right)^{2}}{A \\rho_{max} u_{max}} - \\frac{3 \\left(2 u_{max} - 3 u_{star}\\right)^{2}}{A^{2} \\rho_{max}^{2} u_{max}} = 0$$"
      ],
      "text/plain": [
       "                                        2                       2    \n",
       "                    3⋅(2⋅uₘₐₓ - 3⋅uₛₜₐᵣ)    3⋅(2⋅uₘₐₓ - 3⋅uₛₜₐᵣ)     \n",
       "-3⋅uₘₐₓ + 6⋅uₛₜₐᵣ + ───────────────────── - ───────────────────── = 0\n",
       "                         A⋅ρₘₐₓ⋅uₘₐₓ             2     2             \n",
       "                                                A ⋅ρₘₐₓ ⋅uₘₐₓ        "
      ]
     },
     "execution_count": 14,
     "metadata": {},
     "output_type": "execute_result"
    }
   ],
   "source": [
    "quadA.simplify()"
   ]
  },
  {
   "cell_type": "markdown",
   "metadata": {},
   "source": [
    "It's a little bit ugly, but that is quadratic in $A$, and that means we can solve for the roots of the equation. SymPy's `solve()` function in this case will return a list with the two roots. They are long expressions, so let's print each root separately."
   ]
  },
  {
   "cell_type": "code",
   "execution_count": 15,
   "metadata": {},
   "outputs": [],
   "source": [
    "A_sol = sympy.solve(quadA, A)"
   ]
  },
  {
   "cell_type": "code",
   "execution_count": 16,
   "metadata": {},
   "outputs": [
    {
     "data": {
      "image/png": "[encoded data removed]",
      "text/latex": [
       "$$\\frac{1}{2 \\rho_{max} u_{max} \\left(u_{max} - 2 u_{star}\\right)} \\left(\\sqrt{- u_{star} \\left(4 u_{max} - 9 u_{star}\\right)} \\left(- 2 u_{max} + 3 u_{star}\\right) + \\left(2 u_{max} - 3 u_{star}\\right)^{2}\\right)$$"
      ],
      "text/plain": [
       "  ___________________________                                         2\n",
       "╲╱ -uₛₜₐᵣ⋅(4⋅uₘₐₓ - 9⋅uₛₜₐᵣ) ⋅(-2⋅uₘₐₓ + 3⋅uₛₜₐᵣ) + (2⋅uₘₐₓ - 3⋅uₛₜₐᵣ) \n",
       "───────────────────────────────────────────────────────────────────────\n",
       "                      2⋅ρₘₐₓ⋅uₘₐₓ⋅(uₘₐₓ - 2⋅uₛₜₐᵣ)                     "
      ]
     },
     "execution_count": 16,
     "metadata": {},
     "output_type": "execute_result"
    }
   ],
   "source": [
    "A_sol[0]"
   ]
  },
  {
   "cell_type": "code",
   "execution_count": 17,
   "metadata": {},
   "outputs": [
    {
     "data": {
      "image/png": "[encoded data removed]",
      "text/latex": [
       "$$\\frac{1}{2 \\rho_{max} u_{max} \\left(u_{max} - 2 u_{star}\\right)} \\left(2 u_{max} - 3 u_{star}\\right) \\left(2 u_{max} - 3 u_{star} + \\sqrt{- u_{star} \\left(4 u_{max} - 9 u_{star}\\right)}\\right)$$"
      ],
      "text/plain": [
       "                   ⎛                     ___________________________⎞\n",
       "(2⋅uₘₐₓ - 3⋅uₛₜₐᵣ)⋅⎝2⋅uₘₐₓ - 3⋅uₛₜₐᵣ + ╲╱ -uₛₜₐᵣ⋅(4⋅uₘₐₓ - 9⋅uₛₜₐᵣ) ⎠\n",
       "─────────────────────────────────────────────────────────────────────\n",
       "                     2⋅ρₘₐₓ⋅uₘₐₓ⋅(uₘₐₓ - 2⋅uₛₜₐᵣ)                    "
      ]
     },
     "execution_count": 17,
     "metadata": {},
     "output_type": "execute_result"
    }
   ],
   "source": [
    "A_sol[1]"
   ]
  },
  {
   "cell_type": "markdown",
   "metadata": {},
   "source": [
    "### Evaluating the new flux equation"
   ]
  },
  {
   "cell_type": "markdown",
   "metadata": {},
   "source": [
    "Quadratic equations, of course, have two solutions. Here we have to select the positive root, otherwise our model would have an inconsistency. Are you able to see why?  To determine its value, we need to fill in some actual numbers into the model.\n",
    "\n",
    "Let's start with the same numerical values that we used in [lesson 1](https://nbviewer.jupyter.org/github/numerical-mooc/numerical-mooc/blob/master/lessons/03_wave/03_01_conservationLaw.ipynb) for $\\rho_{\\rm max}$ and $u_{\\rm max}$. But we also have to supply a value for $u^{\\star}$, a quantity that should be experimentally observed in a given road. We propose $u^{\\star} = 0.7\\, u_{\\rm max}$ for this exercise.  This would correspond to 84 km/h for a highway with a 120-km/h speed limit, for example.\n",
    "\n",
    "Let's numerically evaluate the solutions for $A$ using the following values:\n",
    "\n",
    "$$\n",
    "\\begin{align} \n",
    "\\rho_{\\rm max} &=10.0 \\nonumber\\\\ u_{\\rm max} &=1.0 \\nonumber\\\\ u^{\\star} &=0.7 \\nonumber\n",
    "\\end{align}\n",
    "$$\n",
    "\n",
    "Now evaluate the numeric result for each root of $A$ using the `evalf()` function, where you pass the numeric substitution as an argument. It's very cool.  Let's evaluate both roots and we will pick the positive one.\n",
    "\n",
    "Let's try the `[0]`-th solution for $A$, first:"
   ]
  },
  {
   "cell_type": "code",
   "execution_count": 18,
   "metadata": {},
   "outputs": [
    {
     "data": {
      "image/png": "[encoded data removed]",
      "text/latex": [
       "$$-0.0171107219255619$$"
      ],
      "text/plain": [
       "-0.0171107219255619"
      ]
     },
     "execution_count": 18,
     "metadata": {},
     "output_type": "execute_result"
    }
   ],
   "source": [
    "A_val_0 = A_sol[0].evalf(subs={u_star: 0.7, u_max: 1.0, rho_max: 10.0})\n",
    "A_val_0"
   ]
  },
  {
   "cell_type": "markdown",
   "metadata": {},
   "source": [
    "Now let's try the `[1]`-th solution for $A$:"
   ]
  },
  {
   "cell_type": "code",
   "execution_count": 19,
   "metadata": {},
   "outputs": [
    {
     "data": {
      "image/png": "[encoded data removed]",
      "text/latex": [
       "$$0.0146107219255619$$"
      ],
      "text/plain": [
       "0.0146107219255619"
      ]
     },
     "execution_count": 19,
     "metadata": {},
     "output_type": "execute_result"
    }
   ],
   "source": [
    "A_val_1 = A_sol[1].evalf(subs={u_star: 0.7, u_max: 1.0, rho_max: 10.0})\n",
    "A_val_1"
   ]
  },
  {
   "cell_type": "markdown",
   "metadata": {},
   "source": [
    "Because Sympy seems not to return the roots in a deterministic order and  we want to use the positive root, we will automatically pick this one by using the Python built-in `max` function."
   ]
  },
  {
   "cell_type": "code",
   "execution_count": 20,
   "metadata": {},
   "outputs": [
    {
     "data": {
      "image/png": "[encoded data removed]",
      "text/latex": [
       "$$0.0146107219255619$$"
      ],
      "text/plain": [
       "0.0146107219255619"
      ]
     },
     "execution_count": 20,
     "metadata": {},
     "output_type": "execute_result"
    }
   ],
   "source": [
    "A_val = max(A_val_0, A_val_1)\n",
    "A_val"
   ]
  },
  {
   "cell_type": "markdown",
   "metadata": {},
   "source": [
    "Now, numerically evaluate $B$ in the same way using the positive root `A_val`:"
   ]
  },
  {
   "cell_type": "code",
   "execution_count": 21,
   "metadata": {},
   "outputs": [
    {
     "data": {
      "image/png": "[encoded data removed]",
      "text/latex": [
       "$$0.00853892780744381$$"
      ],
      "text/plain": [
       "0.00853892780744381"
      ]
     },
     "execution_count": 21,
     "metadata": {},
     "output_type": "execute_result"
    }
   ],
   "source": [
    "B_val = B_sol.evalf(subs={rho_max: 10.0, A: A_val})\n",
    "B_val"
   ]
  },
  {
   "cell_type": "markdown",
   "metadata": {},
   "source": [
    "### Turn off $\\LaTeX$"
   ]
  },
  {
   "cell_type": "markdown",
   "metadata": {},
   "source": [
    "$\\LaTeX$ output is great when we're looking at algebraic expressions, but it's a little too much for simple numeric output.  Let's turn it off for the rest of the exercise:"
   ]
  },
  {
   "cell_type": "code",
   "execution_count": 22,
   "metadata": {},
   "outputs": [],
   "source": [
    "sympy.init_printing(use_latex=False)"
   ]
  },
  {
   "cell_type": "markdown",
   "metadata": {},
   "source": [
    "## Green light: take 2"
   ]
  },
  {
   "cell_type": "markdown",
   "metadata": {},
   "source": [
    "Let's re-examine the green-light problem from [lesson 1](https://nbviewer.jupyter.org/github/numerical-mooc/numerical-mooc/blob/master/lessons/03_wave/03_01_conservationLaw.ipynb) but using our newly computed traffic-flux equation.  We shouldn't have to change much—in fact, we can simply create a new `flux` function and leave the rest of the code unchanged.\n",
    "\n",
    "There's one last bit of housekeeping to do so we don't run into trouble -- we used the variables `rho_max` and `u_max` in our SymPy code and we defined them as SymPy `symbols`.  You can check on the status of a variable using `type()`.  "
   ]
  },
  {
   "cell_type": "code",
   "execution_count": 23,
   "metadata": {},
   "outputs": [
    {
     "name": "stdout",
     "output_type": "stream",
     "text": [
      "<class 'sympy.core.symbol.Symbol'> <class 'sympy.core.symbol.Symbol'>\n"
     ]
    }
   ],
   "source": [
    "print(type(rho_max), type(u_max))"
   ]
  },
  {
   "cell_type": "markdown",
   "metadata": {},
   "source": [
    "If we try to use SymPy variables with NumPy arrays, Python is going to be very unhappy.  We can re-define them as floats and avoid that messy situation.   "
   ]
  },
  {
   "cell_type": "code",
   "execution_count": 24,
   "metadata": {},
   "outputs": [],
   "source": [
    "rho_max = 10.0\n",
    "u_max = 1.0"
   ]
  },
  {
   "cell_type": "code",
   "execution_count": 25,
   "metadata": {},
   "outputs": [],
   "source": [
    "def flux(rho, u_max, A, B):\n",
    "    \"\"\"\n",
    "    Computes the traffic flux for the better model.\n",
    "    \n",
    "    Parameters\n",
    "    ----------\n",
    "    rho : numpy.ndarray\n",
    "       Traffic density along the road as a 1D array of floats.\n",
    "    u_max : float\n",
    "        Maximum speed allowed on the road.\n",
    "    A : float\n",
    "        Scaling coefficient for rho.\n",
    "    B : float\n",
    "        Scaling coefficient for rho squared.\n",
    "    \n",
    "    Returns\n",
    "    -------\n",
    "    F : numpy.ndarray\n",
    "        The traffic flux along the road as a 1D array of floats.\n",
    "    \"\"\"\n",
    "    F = rho * u_max * (1.0 - A * rho - B * rho**2)\n",
    "    return F"
   ]
  },
  {
   "cell_type": "code",
   "execution_count": 26,
   "metadata": {},
   "outputs": [],
   "source": [
    "import numpy\n",
    "from matplotlib import pyplot\n",
    "%matplotlib inline"
   ]
  },
  {
   "cell_type": "code",
   "execution_count": 27,
   "metadata": {},
   "outputs": [],
   "source": [
    "# Set the type and size of the font to use in Matplotlib figures.\n",
    "pyplot.rcParams['font.family'] = 'serif'\n",
    "pyplot.rcParams['font.size'] = 16"
   ]
  },
  {
   "cell_type": "code",
   "execution_count": 28,
   "metadata": {},
   "outputs": [],
   "source": [
    "def rho_green_light(x, rho_light):\n",
    "    \"\"\"\n",
    "    Computes the \"green light\" initial condition.\n",
    "    It consists of a shock with a linear distribution behind it.\n",
    "    \n",
    "    Parameters\n",
    "    ----------\n",
    "    x : numpy.ndarray\n",
    "        Locations on the road as a 1D array of floats.\n",
    "    rho_light : float\n",
    "        Car density at the stoplight.\n",
    "    \n",
    "    Returns\n",
    "    -------\n",
    "    rho : numpy.ndarray\n",
    "        The initial car density along the road\n",
    "        as a 1D array of floats.\n",
    "    \"\"\"\n",
    "    rho = numpy.zeros_like(x)\n",
    "    mask = numpy.where(x < 2.0)\n",
    "    rho[mask] = rho_light * x[mask] / 2.0\n",
    "    return rho"
   ]
  },
  {
   "cell_type": "code",
   "execution_count": 29,
   "metadata": {},
   "outputs": [],
   "source": [
    "# Set parameters.\n",
    "nx = 81  # number of locations on the road\n",
    "L = 4.0  # length of the road\n",
    "dx = L / (nx - 1)  # distance between two consecutive locations\n",
    "nt = 30  # number of time steps to compute\n",
    "rho_light = 5.0  # car density at the traffic light.\n",
    "\n",
    "# Define the locations on the road.\n",
    "x = numpy.linspace(0.0, L, num=nx)\n",
    "\n",
    "# Compute the initial traffic density.\n",
    "rho0 = rho_green_light(x, rho_light)"
   ]
  },
  {
   "cell_type": "code",
   "execution_count": 30,
   "metadata": {},
   "outputs": [
    {
     "data": {
      "image/png": "[encoded data removed]",
      "text/plain": [
       "<Figure size 432x288 with 1 Axes>"
      ]
     },
     "metadata": {},
     "output_type": "display_data"
    }
   ],
   "source": [
    "# Plot the initial car density on the road.\n",
    "fig = pyplot.figure(figsize=(6.0, 4.0))\n",
    "pyplot.xlabel('Distance')\n",
    "pyplot.ylabel('Traffic density')\n",
    "pyplot.grid()\n",
    "line = pyplot.plot(x, rho0,\n",
    "                   color='C0', linestyle='-', linewidth=2)[0]\n",
    "pyplot.xlim(0.0, L)\n",
    "pyplot.ylim(-0.5, 6.0)\n",
    "pyplot.tight_layout();"
   ]
  },
  {
   "cell_type": "code",
   "execution_count": 31,
   "metadata": {},
   "outputs": [],
   "source": [
    "def ftbs(rho0, nt, dt, dx, bc_value, *args):\n",
    "    \"\"\"\n",
    "    Computes the traffic density on the road \n",
    "    at a certain time given the initial traffic density.\n",
    "    \n",
    "    Parameters\n",
    "    ----------\n",
    "    rho0 : numpy.ndarray\n",
    "        The initial car density along the road\n",
    "        as a 1D array of floats.\n",
    "    nt : integer\n",
    "        The number of time steps to compute.\n",
    "    dt : float\n",
    "        The time-step size to integrate.\n",
    "    dx : float\n",
    "        The distance between two consecutive locations.\n",
    "    bc_value : float\n",
    "        The constant density at the first station.\n",
    "    args : list or tuple\n",
    "        Positional arguments to be passed to the flux function.\n",
    "    \n",
    "    Returns\n",
    "    -------\n",
    "    rho_hist : list of numpy.ndarray objects\n",
    "        The history of the car density along the road.\n",
    "    \"\"\"\n",
    "    rho_hist = [rho0.copy()]\n",
    "    rho = rho0.copy()\n",
    "    for n in range(nt):\n",
    "        # Compute the flux.\n",
    "        F = flux(rho, *args)\n",
    "        # Advance in time.\n",
    "        rho[1:] = rho[1:] - dt / dx * (F[1:] - F[:-1])\n",
    "        # Set the left boundary condition.\n",
    "        rho[0] = bc_value\n",
    "        # Record the time-step solution.\n",
    "        rho_hist.append(rho.copy())\n",
    "    return rho_hist"
   ]
  },
  {
   "cell_type": "code",
   "execution_count": 32,
   "metadata": {},
   "outputs": [],
   "source": [
    "# Set time-step size based on CFL limit.\n",
    "sigma = 1.0\n",
    "dt = sigma * dx / u_max  # time-step size\n",
    "\n",
    "# Compute the traffic density at all time steps.\n",
    "rho_hist = ftbs(rho0, nt, dt, dx, rho0[0], u_max, A_val, B_val)"
   ]
  },
  {
   "cell_type": "markdown",
   "metadata": {},
   "source": [
    "Now that we have computed the history of the car density along the road, let's create an animation to visualize the results."
   ]
  },
  {
   "cell_type": "code",
   "execution_count": 33,
   "metadata": {},
   "outputs": [],
   "source": [
    "from matplotlib import animation\n",
    "from IPython.display import HTML"
   ]
  },
  {
   "cell_type": "code",
   "execution_count": 34,
   "metadata": {},
   "outputs": [],
   "source": [
    "def update_plot(n, rho_hist):\n",
    "    \"\"\"\n",
    "    Update the line y-data of the Matplotlib figure.\n",
    "    \n",
    "    Parameters\n",
    "    ----------\n",
    "    n : integer\n",
    "        The time-step index.\n",
    "    rho_hist : list of numpy.ndarray objects\n",
    "        The history of the numerical solution.\n",
    "    \"\"\"\n",
    "    fig.suptitle('Time step {:0>2}'.format(n))\n",
    "    line.set_ydata(rho_hist[n])"
   ]
  },
  {
   "cell_type": "code",
   "execution_count": 35,
   "metadata": {},
   "outputs": [
    {
     "data": {
      "text/html": [
       "<video width=\"432\" height=\"288\" controls autoplay loop>\n",
       "  <source type=\"video/mp4\" src=\"data:video/mp4;base64,AAAAHGZ0eXBNNFYgAAACAGlzb21pc28yYXZjMQAAAAhmcmVlAABPxG1kYXQAAAKgBgX//5zcRem9\n",
       "5tlIt5Ys2CDZI+7veDI2NCAtIGNvcmUgMTUyIC0gSC4yNjQvTVBFRy00IEFWQyBjb2RlYyAtIENv\n",
       "cHlsZWZ0IDIwMDMtMjAxNyAtIGh0dHA6Ly93d3cudmlkZW9sYW4ub3JnL3gyNjQuaHRtbCAtIG9w\n",
       "dGlvbnM6IGNhYmFjPTEgcmVmPTMgZGVibG9jaz0xOjA6MCBhbmFseXNlPTB4MzoweDExMyBtZT1o\n",
       "ZXggc3VibWU9NyBwc3k9MSBwc3lfcmQ9MS4wMDowLjAwIG1peGVkX3JlZj0xIG1lX3JhbmdlPTE2\n",
       "IGNocm9tYV9tZT0xIHRyZWxsaXM9MSA4eDhkY3Q9MSBjcW09MCBkZWFkem9uZT0yMSwxMSBmYXN0\n",
       "X3Bza2lwPTEgY2hyb21hX3FwX29mZnNldD0tMiB0aHJlYWRzPTYgbG9va2FoZWFkX3RocmVhZHM9\n",
       "MSBzbGljZWRfdGhyZWFkcz0wIG5yPTAgZGVjaW1hdGU9MSBpbnRlcmxhY2VkPTAgYmx1cmF5X2Nv\n",
       "bXBhdD0wIGNvbnN0cmFpbmVkX2ludHJhPTAgYmZyYW1lcz0zIGJfcHlyYW1pZD0yIGJfYWRhcHQ9\n",
       "MSBiX2JpYXM9MCBkaXJlY3Q9MSB3ZWlnaHRiPTEgb3Blbl9nb3A9MCB3ZWlnaHRwPTIga2V5aW50\n",
       "PTI1MCBrZXlpbnRfbWluPTEwIHNjZW5lY3V0PTQwIGludHJhX3JlZnJlc2g9MCByY19sb29rYWhl\n",
       "YWQ9NDAgcmM9Y3JmIG1idHJlZT0xIGNyZj0yMy4wIHFjb21wPTAuNjAgcXBtaW49MCBxcG1heD02\n",
       "OSBxcHN0ZXA9NCBpcF9yYXRpbz0xLjQwIGFxPTE6MS4wMACAAAAWmWWIhAAQ//73gb8yy18iuslx\n",
       "+ed9LKzPPORdft/nuP8wCgiJLprSIZ0kCrNAtypVaue8ZCmM4WXp2VB9R5Gy0sccY95yXD5p3Fha\n",
       "O/mH92r0AKVrRM9fkv9jf0ekOFxMAQt6UgLPNLlZUbcH8UhzVulW2lJlXX8hnJnTlkHMli4SSYHh\n",
       "bnhz2F5ch1pgF7ZTLtEKsw+Ys+AO5ZiIBLaJuGxoDkW9pQJEjl7lKAhZFB7CHt+hachbOIEJ1Ibu\n",
       "tCqigyj2Bpzt3b7hUjGp4u90jgYmhZqG+o23mYRrFYUQ63FM3bz4OwzOptpXya+8IF17535J1X0e\n",
       "Ebm4O7mDMLHXbXCKv04oSxsA4eZuamfrcYjrA7V+6c/k6Dces6MPe4F89fwN+7GD86qIwziiGJIK\n",
       "hN8LQiazSB0zcW3tM4V9fGaz9pqwPaK8Y++Zqgx48F9ggsFvxcbnwTn3q+JwlazsX5v8NN4k3une\n",
       "+OZdTxpYc/Xs9mAaaFEl5FWNZcstQpcGr+B8rKGjYpUJGpvAmNnEKlgkDGGM8zJ44exMmSDeIZwT\n",
       "IzjJFM1HXZMacX+Oeuk7/o8VSCrEYpOpqGpp+Cg5/UdqTBFeVuHE5ji8UDEl0mT62FPO/v12uxvn\n",
       "ZZJld3cRPRYCBvgC4NO9Zx59t9cfVOTf/Qs66v/t33aCid6uclpZHHQibABHF3k4mXOUnyiP9vtk\n",
       "ArdFdQcoHT+9BvOIXnGP/m+o4rkNWqTWkeICEQ6lEOjbBFm4TXMT1emE+RdM9q1OJDO7NNW9Bbin\n",
       "HqvIrpP8v/b8gC0y+qka6gWo+I1axHHcGb1qXMrBoQYy0a4M3WokdJI9Iu/faTB//Xh5HesFyA/3\n",
       "ymPBALMQKApt9os30ZRzFe5mwCE5csTPXlnLrQ6yDY3pUYFOoo5vFBAkSEcY7k1+4uL0wR9tqM4D\n",
       "F5Uzs8PxzCTHXPYptVAyK+Crz/LH2ah1en/+BShN9hxx928at8HyBXRQKhF8kiJsWcBUCcWzy1Rd\n",
       "lvD8B58GS74VqHQ1LQZlEmZ6WZLEQZvaoGahmNrvfyPo52KQ5DDCDMHCOfAKVq+/+FdUY3k2HpLC\n",
       "hr7fmbP91oPuCsU2Whr6acRQTWvF1KoZtlgonphlPV0IHH9dGResT/2LRvRJr5gNIYyAmk2e7Vff\n",
       "zL40z+Nkp+Lh141n+P2+4e3kZd8og89Ef17a/hxbmTBEAD7kb0UuP0/hKcS2qPKYkfcz4CGkGRWB\n",
       "6ggzeQy2RWulQ9iG1OajNjOtbIlR2FZFdi6DGuyiJ/xqNQPtMliHYL+FwVBe/lpTEDffgubvmOCY\n",
       "SRdtwckVz95DBbE+NkOtWvp+D3Li7FHFzRY/FtV1z6gWPEruui2FGd1Ww0tmuo48+L7dEnvlOfBP\n",
       "JrtotJUeetWi/H78SznJW64jC1WwO9R73vPgXPjzukM3B+serzLGo3/IvpRO5jeZV9tDseKULNRh\n",
       "fm9+wf5yorPIV0P3gDjGQn3RrYuuYm7ZaXgHengYqwZ8sjUT7H1eHnvzlOikQzth8DZGgs4hQgMz\n",
       "dnl1L964r7utLILAYPsLKrEzU+0KUc7GbX4YZo42LeIUi5PUHvNU+wqQts+m5DI93C1kmgCSQbil\n",
       "Kk5gwAify1m3E5fZ2Bseb2rWGvYeWSCd44o5X5e/genFo13imdgJqIM0Akw23iXtUO/OpIcnI17p\n",
       "z/sntRZruipzAF8efOwfgl8HPd+4D1O5PaABNNgyLAJrZQSnjOIbl3IEweO/JSLQh8PRjdC0OkDb\n",
       "2aeR/yodqIhutSx6cjmI/7Tl6jthPxaL5cvEOE6m0DJTbkuNjips67GmbsD4XWdevZ3XqvCnzH5C\n",
       "7kK+u5vCDgBg77AvL7uidr3w9xPxkvYnleS9JG9fgP3cgsJMnBOyOTMWBiEzBeQJ0ZY9bEitJFbA\n",
       "NYr3gV5NkLQ9ESRfPGbBsKu0nLez82UmsMf1sTjl6TRKTzwJ5Nf787x6DTx8XZ6kyZBu9DlhK78W\n",
       "kwz309fct99As0fBrhnZsk/F28unaHJVWMvQiRF0RQYFQBSE/23WIJ/3XrZSTFTobErrYweLKEIG\n",
       "In3mpn+Hibgs07T3X6ZRYYBHmkWbAZqC7EcmbNML6H0jNVwF+2sYrN4I5AloOsjIiOPgA2hMa1tT\n",
       "8ajGkXUpOdDuvx8WEecIKyjWM0z/bYPzp2YWiBn/6VmCYbxtpWhW/DngwRNeN4pWdBs5SqDwdz2Q\n",
       "tPGC5jlkqGN0cofAD9xuTe6I6KBdggwsedFZeVeMEi7ok4nyUD0IhWpkObV1yslkup84zVFXPS29\n",
       "DzQDY7baWUV0FNsBekeSX3DnW8yHVbrxXapvQ2i0B0HJ1EUT64yFN3mOF8hDj/p6cQulakGNdjzR\n",
       "a+X7TmWvdH3qOK8dKFEw4kxBiSSGni0IdSWZ5JZ0cCJ5oxLUQqwEn85/YNkOXGv0AVCgkdAnrgIc\n",
       "dFhWg168ujhjUbwigNudzwQ79t5ftxvvXN7+b//nP2H+0SleqKQIgc4GGMGMia1zhsEwjyYnyx0y\n",
       "LpxlpoGpFdZGb1DYnQzCMb8Ii3YSB9NguGPNWuBRzNUK6qo3l2b3PGd6jukRv4XGrCAq78gr4v4g\n",
       "wqVPNr/up8/qrFcQ7yO2YdCSlS1uAO/7yWTs81eoGkxIgEXNjZqbVl2+/LxYyeWgU+8XgHCjEXrb\n",
       "yKCq0iUmA+6Y5kKlLW5s/KdbiDHFUyhebPn76I7R3P5f75zNSQbub8K8YHalVU/ynqfNGdXkoz10\n",
       "J9hkE8uNJiByZ2HmNimgBVHC9GrpOUG3wr10b52n06U4QCHAbFVAtqf2cYMql+JPsIUFSS1sPO+J\n",
       "u7qgzyzcauUZD40m1rEvJUUDAQP66XwZ2zvvxqdQilvPzpRxnJBvBbFI3mptooIZyTkb54nMpKZS\n",
       "BDw8+gmaEBpiQy4ciR5UxKt8vb+q8w+lSf2tVDbwP7bTQQ275sCb7nXJhHWhdOYeJ69wGvN4r//o\n",
       "LJph6UTG6J95gPdyyLLukkrJqgWJfdmnyBdvzqncgE5e/cQx9WWnT47k0p2EYbahPXkGq2UXGsKQ\n",
       "OqdKC1IB4YPecsbhSWWG9PKc8rZzIiHG7lOMy6u0PRe2cxFdC5TET2FFB3jFBNRWM/9N0/aTM9Bt\n",
       "38sHL91oHgMrY55X1bXXGYXeNJNR5ibKQC/I3FZ9+TPk/fgABGT30kBGPLfAVfgePWOwS+i4v20a\n",
       "sAkioZrlbtz9Ajmt87e56oVTMVQL758iLPppwhGqeE5gTM+Vq7Vt/wuz917PV/R4yDrZXtCDpFQz\n",
       "74qCPA5S02xNqkneGP5cjEZAlHDmRo+eH0X1ePpgiVnXDgDxNk/ZOxjOBcd1oaQjN9nLYsKmqoHm\n",
       "dPiJ0XougvFXwyZs4JkDSzTGFrQiuaLXtfgTj03Qzgzefh3APnbH3XMx5Qxm5JTXvYgbLxaZqqmr\n",
       "9gsNZHf37qIy3VdPAAwQvot8o6YSeQ31XopWrH/9pBrters0zHtD07xNPwPhgP78KD2IX8IOsae/\n",
       "lXNiS1nRXJBAHFE4RnIXgNzjOX3o4v3sLq8ih3E+0cqWvAV7sgDqojZ/G2cRazrSNTitwkeQ64JQ\n",
       "B2qsbe/Su+ni1d3dFVSku0bbCtvifF9NfYNLU7YEdBzloT5Kgh/S6b1OyCHNh3By0yyy6EYIWLWr\n",
       "O6Vj3kWQtrDdPZ8ZPuLbYKXrz1tmOEHRm5BCF+xksbrz+lmpW/herl6euXLykUFpCK9/o4lFUbgh\n",
       "kbIymkXmffwT93vYIOQLy1XPyy31P5xXL4qFA9H+t5SeSksot/1B3zM/1gbh3SlCUdgR+x7LKhau\n",
       "hcGa49K9zTsFYImv1/FOplSUozoqcEH+UPNjN6VRCVH6B+ywON/K8Up6s7B0y0D+K1b2QfQy1XZM\n",
       "qnmLw2V09KujGpnJbJ6XijDw7MdIKwZtkmvC59PMVwpcWdXacctGs1ZC5khVQA81t3nRoQaRjIDP\n",
       "2mFDfH5010h9ItMz4pnrxuBKHBcw4gqSL5BLWooeFF77hY4ZZ7Cc+mv/1SjW1PQjO1aSrWnP/y51\n",
       "xDQ7cDQEJXEnkjCrLJ3wZxx+tPYaq7Tcy7qLFFsjZGuTId5TrjCnnAjI2OmhND0aLp93XKMQUhgy\n",
       "mHB+1Z0wbuYSf9+7Wd7ol83YeDEO3YVmyL/f8WHDV/3jf427fD/LthJQq0BU0p/BGGD5YDFk53uS\n",
       "nDui1vtgENPA4+PVddTzr6gLrzrRjRDcAsOGuQAwbm/i/DiDCEbooK8HJyFQEL5R4g9mbFt5MZyb\n",
       "xCwXdjuVsVcnsqLlEJVLyBjgRpRggYUotMqvEQwX6gtFaK2l+pEGGCU8Xw6VkcGoWDaGvmuUOtbI\n",
       "a1CS80cT4APSaBysnKnEbO+kDrzUgxlnczrC1sC5gSUpBye1MBO7hHuPO9WmZwvdK13m4fDjlPId\n",
       "AVEZgddnRQfs0BLekNw5zo+swzRiIaA5/NiuVKgj+9IDZzJDdxM1dwpzTwu+VUKmkyc4Zv2k82qZ\n",
       "DICyOryf3jAIRT6dra8cKKGMTnZF+F3DpbwLOMAVIwo/zOQBmhUizFL2taDyWKlHpRzpQjHdgyee\n",
       "+IbdSGv755dDFWj6h7XF/8Csw4X9EeE3dtT42Y3KAlQZqwpEsjuHxLRbIzK+poJKBQdkBk5QZtgO\n",
       "K3l2rJ/49HuS6z7q+1LwiGVVbHO9AyCQaVl4R9W3GOfWUg8rO46DrXiu3Zxk/0BkUp38tGYEIyax\n",
       "+5L2ym1UXBx7HFfQpL233iYNOz+7VNsXY0rX5amzQbmy8MtgZTmzDdRKWez1LuhMwckylGh3PdIz\n",
       "k5QrrlPF04TEGDnKVT6z3Z2rQ+tbiodKxoQSCyLIVDwDdMs45XcijyvzTdACKGCobMURRIrjTOMQ\n",
       "t7W8PTXlbmkRcWeKOBkLQqxgJqr2BeHz0xM6Gl/nJzp2KNTEq7sjgIxulc+SNuG0UA3mRKLHHrU+\n",
       "ZDx+dg3m7jxf4Eun8WMdzwKtHhZASMLc/FE/IstgMC894In7nkYBmfG0F6PuuDgdwv29MnXYOXWF\n",
       "wJPY27WLETSjMQBnQLqr2XveUNhMFerp9yy/QROkQ0LddHzkCFNCogUJiSJmUZ9CJtcI+V8L2GjP\n",
       "CFBxxBzqMgD82xQRuJjWji/jdRlw6V1DdoXDXQqt2WfO90v4AFbbC0sN1dbkZ5JwDYt8x7ul6w8B\n",
       "bsjDH+9NVN+Y8nwMeirJXY8hLmJhV/bwo24zGBoiMRAdabk5GUMtGaRBqINeGlWd40blfttfWf66\n",
       "ZwYmulUPkuTRQ9eciQeiIAWyq6hYL3zKpDO2OqtHXLVKpd9S6J0hdRMf3DftTdERRCv6D13YZlpf\n",
       "8rYwr2Vcx7clkWzvTKmWVe1Zhi+HKHErsEzHApFMLA2ediQfOK+wVZL/QPxADFj1TF6Wd9F5tQjn\n",
       "ACPpdyeixX7x46F430eiynTbEcqRDJpgihzHCAhQ87DlaYeOnl/ejGWIaRIFJh5w87cy4tJoNPne\n",
       "X0s7q82p340b0JcUAVxZjKRZg2h9fwvvtiLV0fmt96ckJiCNrdBHX0VtAcAOPXnQdRVuYaE3TmTt\n",
       "vWqbhcBPbd9wf5ktZPa3etAI4l/X/7emJRoX2aVRCiBcSTQxhWS2amcD64ezIfosh/M+t0o/BpzC\n",
       "Oh1zCx21uCkBlhdSntW3cHvcC2fYR0khKrhyncFzREJOyapbarAuwAMGXkdo59z6qkfk/2ZmrbCN\n",
       "RnBnxMVklcXGX80ub/Jx8ARiuccMwQTcqE7c+Xed3uNhwmxSthdD44SswTWWOuR5uLUJWQeGvTZF\n",
       "7JpK0Jt5hto2VrwhdXYfsHKc4YlT4cryfoD5PboQHeFOJ1EHcn/zV+f9jed+sWQboVCdG4NTVx8G\n",
       "DDnmyQNcBH9jiSJhO0v0xGk7TY9+9hvyBW2K9y7CguxWL3SpnQNZy6XNYwZftEdyJCiperpJ7Did\n",
       "5Q4uwJfC6GbHYOFK9F//u5tUekvlZ4u5qcUdeZrXm2MIt1dAYeEuLkd5dPlbZ6XfhZYfjOfYBShP\n",
       "2okuGUqW71S5+SxGuKRH0WjE/n68uGYaZ1MpGI8INC38jv017k0hIdsm5ovt+wFM/fUfBNklZXNE\n",
       "54DKejPl4MSiZZpq3ueIbuqjqcSkDWS1jSnxuxQ+VGxZL/TMJU5TvQ8sKLgUDLRo8ArCHUhkEyk0\n",
       "LU1VXK72EBiUeyHNBsPSvxk71OORRjChRIx/fBvZIlWOZpNy8vXWKd8DsmIBq35U5A5tj9hLIQMA\n",
       "i766uKWXDDotvsjy/F87Domz42z68FQBliDbxQgTIyZXMhy6TJcyInqwC3rkJMrkokOn7rWSiksX\n",
       "7GQsPgIoLux/htpTqzBTkJ87JS9+wh/9ZEcL2Dy4DizVPG8BMnISfaKkgO8MfzURMrIsd3dfGhZa\n",
       "GveRO01T4tU/t6u59jLsNmD2PNyFW/iAELRu/Wcnfi07+nTPwCkNy3+ORlRWHMJZRxoRlbbqm1im\n",
       "Ofz2piJa1/+aFTPI/xP2q3jA5ODdXMdYe24TCkcpnS49OvvI+UGNTw7wG3t07nUQHnyPYN+E9p6d\n",
       "byfbvxF/FgUfDX4Wf3QVFV8oZXhGJ7eFx5mRCbK9Qwt4tjmBSnMB5pcdGrJIqHpQEMW7j3Gpzopp\n",
       "CJIrFk3zew/zjAbtApdCn0AblM6rYoh8oxrWwpL+Iyd2QwB//MqHcCDx3zD+aVzUIeFS4f93jgYt\n",
       "H1x90Fu3q5ZZG+Aqx8sQ5ywOyyXvMS+1vIMaOMdDaWiCFyKnwL0lKuzYsYRlDle9L5FXN+1qD8sR\n",
       "296NOj2TIES6fgUdLv+qPCVbgVBmb276ywE05Nn7I7V7clhIZOM01Owluqm0hpAKsyk3nGIJfiNC\n",
       "YgylkIT9rOjwMJJjTTPoysTEZ/DsJFOH14Qo/q89IQ5vlzVbNNCdse4GCqAKOy5LdQmj9vtQEjjr\n",
       "XFHa4gX7MCFGI6s7is86lGPREC7biM14Ifrn1oWK7xPuHdtAy5G3eO//JYpo6g2V+m1mXZLBkbev\n",
       "QyiZYUYNL1rqzQCWnAO4z2W84HLoswyx6TLdtx9GiPJr0wC2+S4Cb/TgFoXVxIMuGkeB5FK2UtR0\n",
       "/W5cvcbD9yItiLXab2LWxfAg7PZ2k8Uwq8AeN1mhJRsQIAYSnj1G4yXvg8XwyoCIqfsUs6oJL81M\n",
       "qfckD5SkH0icooR+n+yn66wbxkzjQ3CTGka302gWt5sMxzE8gJR/iC3vPHi+8u/u9ExTQSdmGFqA\n",
       "/x9at/D/sal74YZpuyjXk4xUF2ole2kVlrkQhSkk30cBEjbCrLbKPI9biebWYIov11/XaVmomBf6\n",
       "s4SIiN25H4T8yN2+TzvzequniuG//OxiB4oL18uKLwZl1oEVMhyshYEl1Vhx7+e0iXTvWRNf3xyb\n",
       "B+uoA0oCHJmuyM8AEEy1mbUJfZagZ3LaBwxAqQdjokCWiPpfflpiIFuZwXculCoafXN3SYMLg2is\n",
       "b8r1A0U0W9OcPAfJgPg1Tl1vdsfTBrPhDGkzXwdeIi9wOp5Z5sLY1NSXniOy94xEJDZE11lJcYQU\n",
       "sDSGoAXHfQHpmhr3fyv4mF8BlR97OKJJkR99oHIamtTNyWtxchvRi3j8BO7/XNJQbwGzHCjfT2Vr\n",
       "V0Gk2IqKAh+t3cnU4uLXqgoQJPY93TdgDmRljvTy2GUAu6kTHqzvpZYnOBORj/dxkh6UOfDc/DMb\n",
       "PoYjU1hDgnAABX0AAAOqQZoibEP//qmcaUNABO3yJXfehve+0hv/YPMPq6Ko9DUKmdrwzdQ5fG8+\n",
       "kUqbpbNrZJNZqyd8N2O6GOAGdauwbvToEDxXS+uEI3v3y3dJDSBlKwwQhdyyY1p+DNwlO/Hi//fu\n",
       "UHfcgC8P1KfR5eff4w0T8+sVKUkIlo4UPvcxRtfL4c3dsPqmZLkpiHzthUgV5fjTi/x7B1aW8M4U\n",
       "vMAT3+iDraq9RPtlFohQdTfytOeWx3pToOSm5P5jpERgzSzmiEcHcwCWCva9Udi2MRL8d5FeoA/W\n",
       "+rwym9GNpQhZRHuuU2dsdL4jv3tVhgRTBFzFB8PnmKCwmIvmA3hy0lr4VhCL0OU0pU4CmfpQmh39\n",
       "OUYnxKViBIxOFbdleTpCZsb11jVC786P0n4SZphFYsuTpMIL2JAnJIZA00eSad+HF91SbRO+4Ne/\n",
       "AxXyHwZrR4GLhn5IFFGIa/9hp3gZoGbzSjXXqdEL++pPaa/9iWHUzA0aA0M1Us8cAuVWUTy0QzY0\n",
       "YXZdw4AY3nbFViFl9B9TeK5e9miH3cJoUmCe1XWQkp59oK7X0NMc+f9yvOaXGko6FQzaF5esFu4e\n",
       "mHm5uECsNWYTYC+vZSO/GUO6oPYAtp3qtCxDCQdmND1/ZM+tqvMlTYrn7DJyC2yGCGU/7Qowseyd\n",
       "YCxiM6edTD2q2lY0WJMgll+TxGbfdWZgnDAGHHBa+D/5GbNVXW80T/1ucx+0Cihh7Ak/uGqyru+d\n",
       "xBgIiSCG+rmQEPUEEUbQP2QIN2ygPuAWGLj5gw/34T2pclirxdCAay+kj6Ul67j3ViUD2Xa3FfgH\n",
       "/FQumIPCTKn43SSUXv9E0X4iujZvb28wH6gP5PdAb5PaYYVvU5AeEBpCKw6yJxmqO9KBjWuHyiS2\n",
       "WDOAkb83WLkeMbfiX1ngYailmYrc5dTPs2xbC4NGI4fQsp9rG5jfJOsZ7jnboWGJgYnBHi+0IyUA\n",
       "xPyeemymMK0XQ7B84bYn4toNTyNcELBglnUa/3c/LkiIm0Mrnzx4FO37wee5wWGus8zlgq4GVBET\n",
       "U0DhB5j7xb6kD5Ez5lWTt5ag23qa/n9Dv7XNirRkdYSUyXQCXFy2swGmAr8JIHek3262U+hnhtt/\n",
       "838ErMfBn/yUuIaL1HVjgBhlrG5swz0xGFsLFVUN2wYg7MkoOTNi2VZF6Hgz7SPxw6PdjRFaxygu\n",
       "J9jc2t9SSv3rgy4QO/1Opma8muGRTiJ0cc8CgvWrF0KnPzgDIStxSPkAAAFQAZ5BeQ3/Bqzg0vDi\n",
       "ADZI2v575JLdtJCn1XhpYIe7aLeX8sPCrzRua1DXnSYkXTT/H4hNWeHeMH7J8Xjxy/ykRecN/MDJ\n",
       "AHHqhDX5BkY/rZ8atnfF4/khwiNATteVimiFyoMCdTbHEtxE1Pdr97/IQJ53US/xvR8obB2PQDeL\n",
       "HVogJvhh5+zgl9tqj7I5ylLG61zw5S6h7IxlaE5NEHtfULURgex3HPHqDZdEDls2FQAJVG4J8EPe\n",
       "oo1QGHYDBcPTqdPlAhlR4pNNEMTcqR6gPtnKPz23uoxZOzzOL5nceq6QohRLCSH6wPAQRWjjOMtQ\n",
       "BHyZncy71CEiaTmrAxBRt+yPD45QltuLCDUZ1aMzwk3Qv2wrN0BrO0kioQ0LDW17esqsOKNQdWZm\n",
       "i9Z1clBY/9oUICgvf8js/pdzk/XtIT9Dnh6ptmu9gUQQWfJmpndBAAACWEGaQzwhkymEP//+qZxC\n",
       "Ul/doAIgucV8cLQhQTBjmq1EKki9cVOl2m8X0XwL8OruoXweaZR0sRMMc1WzHGrquY6t6vIwHn8X\n",
       "2gD341csdMmuSP1RgQVv5znxoaIkIWp4J9icBcKxu2/OIY1yfv91vP/CmKfHpv/LNDgAR3B2NWir\n",
       "2guN8yGEC568JWtNuq6gILwihEh6vIi1mBVOaZczHACObIEIukTfJ/p0Ilddd5OBzFngfSRO65/d\n",
       "5210ycq22iFg8O9o9/EgYp54XGA8i3PCFPzaZwfD5gnURbZcnqIriKQx4Jt54uEqIKcqJG+yEa0e\n",
       "dGtVHggEMLAXH1B2BvoMD58N3nb0TxFYiDG/mdEyzhCwGukT+WwiKK0GmJ070ibw3f+10EfPCwLO\n",
       "sSm4xaSbgiYnaZ0iRT/U1Npzcj8aWDm/90o52z1MowR6qFJ+gp+oY+xjjvuHfZJZWdA4Jy/xODa5\n",
       "oGhRsIGGRaxalAIiOLYYcQM4B/7MJ5BCCoQwR9TsTpokNG+kPDsYnEM6cNaH96BGxZK2berZ+/ws\n",
       "iziHiHkBWiQjsHMaGDJHwewDmJlbjEqWKYSSI2ZNde8nAz0AmycW+WgcYx/VT7huwrv3n/DX1Waa\n",
       "KCM3cp+VK4/qNUIX6Bjx/ykdD1PWySx1RUORM1xXYOZy9/ZlTAqiFTUhpsXE6hP+cCifCtPzFI6R\n",
       "Vv+aT4/6TpFsBWsdbRq8TCYho0h/GUq1poTHlF6rgr++1eYItAG7oSZRiUrslD/kXZvbLjZXHFzN\n",
       "/2Cv0p5EQ9q0BH51qCQBfgAAAllBmmRJ4Q8mUwIIf/6qV4UMwADZXi2PDCrY0TfExFzV0rWP1Dpg\n",
       "DT8GF5J/9CO2zQT7rf3r0hZKdeIbd4Ka43yWdiCl8928ifIB/l51wHHZYjE093YapOzujMjq6pP+\n",
       "5nRYy/OqzwUAclXPwXYRCHSHE2IODW4uBwRtdUe7ZZjPbfAR0gigJ5v+fbT9oS8d/IGmoeRtT3cd\n",
       "r7ZvgaXSbo352EjydFRR0h2wBrBYQvtUVfIo6fhhhYfUmPlxi8tV5tWSdFMdHaFqaabC4qNGq07o\n",
       "kWpwYrqth11DkadPNH4np/XYTTdsnBimqTiCln6fZ3mk/BRoXA+UGypu0HmXie2Zwy0KpXm6Px9D\n",
       "PrFlM5B2a1RGauRrInEsYipfeP8okaLHwnjCqJq7XXqTVLSpFuuDXPR0278PQ4cJcfWiA6l6CLB9\n",
       "vhZuBJi2ujHZ/M4s+2+9b6iGEGzOS/knqVpIYN7KrY/ve7OfMo5obATt1wP2aZCOEIumaresC5R7\n",
       "8WOBaNj59KyY94+Gpt4VuFQwFbNZwrTxONVmajSB6jarygxbjY6I9ujZnXliVwdaP6tS+VYBvGwO\n",
       "Js5IRevlJD5kOJx/u5YJ+uXCFt/38hLuW/K33Ns7uZhi1QWv4f0xSx0OvaE75AuGVJRiZjCNvVn+\n",
       "5jBXF7pplFcyKqqu4PTQJUw4Oc1Z6mjXiQMNv80jGHDnBOzD1T2ES6u7LFcfhXPvsoefU0q2ERDz\n",
       "nA7E9FdVwtVAXBXDeA8xrRhaSbPJtB3SIVy1u5WsOyrBpIK6oSpm7nR+7txoQ3UQceBPAAACFEGa\n",
       "hUnhDyZTAgh//qpXiLaUAEOR5m+H45kEqEZd+v614PjhJ0QxnIaeka+ATV653cpsAuexVg16Cv+g\n",
       "Wd/xRz3ZstIX58eYpNfrtDOn18RiQ11YzEj5DLiVs2pASEOmHaxSBp3+yUnk9NVEBa99u5glWZq8\n",
       "E8/LX/yO1oDIFfI2hnsjkbemsDEVyPU6T95npzhDeGXVlpHcXidyB0uMjzN5/VAUKW0rgO3W0OW8\n",
       "5n396Xv0wmH7Vk17kEvENyMtawrp2oJrpmKQ2+jLRm2hi5LspRMjBvK7F3QoxFU5uLmfKCirtCMF\n",
       "YJOoUpGl54359uyo4tiB+J3opRAkng4E7Umc61h48v3woTOnObNVueeTzEVAN33UtZrlWp9Y5T7C\n",
       "1eHTPncd+zjdQ5TlQxZY4Cfga5ziolKOQ623nsLRyCYwAWiMwGqc8PX9Klb4nw0MzucfrCyVHm6V\n",
       "cQM8/dOD8hzSoD7a7ulSVWbywn2IMaSb3JpDcSoIVcn+BfrXtOfxmLRHcppp89uqxZA2ReTyjf7c\n",
       "zw178owcRsNqmP+4HkWoI32iwB/xQGpvNEIpDV4Dxb/7mBwT4RnyaonnST9RSzcYrYUkuw8+48xT\n",
       "9zfP66mkqeTxOxfdIthx+2+tn7JmmFo7VXp2tJeMkWzE684gF80rDTa3eeHoSbrhtxX1o8tSCasY\n",
       "itFGwkXSmgWMZZELOinr8eEAAAK6QZqnSeEPJlMFETwQ//6qV8ANtgAHOXnMKWK3EOt/ZOLcW2m2\n",
       "29ojshJgiOOjv/Gm5l6Ng6rdc1nw5GhzuBb3V6ayvO3vl3M/B5ktFpFYWwnLcBNeYrDtowjSHPNb\n",
       "ekcFSmIeFxf7co4bb+4e585/myDJOwfpbAoEGc/2QHC/KxxbzbAiTpJh0p/Gr7weL5ZuY5U26c4K\n",
       "TVFVA6zRSjd0fJqGilPjd2axiorAbh7XLjPcguGh7NVBA7FQGXUWmVp4RT6bs+ObEXefa0iWbHXg\n",
       "UUh1vJZuy4zfAh+9fYo5GEDIePTFCJS2AK5/h2Xm56uQA0f9l9Bhkukq1CZep1z9reb8n8E2578g\n",
       "UXx6DV5qOQs7GkUXIyRHeclohTo2WpxLjzCcI2d9weWljVt/eiTrD4hFaoeUcqCOlbbbF9+mX5p2\n",
       "/Z7PvxlLmvLP/oGxiwAKKjnYIJS1qw+N6vGU7sIU4FWlkKLhXtIGV3xMMwBWxKtqiCqu60OrjvTL\n",
       "s68J1nh2Ax2waQZsvNARClsL1gq8ufeNIwaliMQmUiagtqNf+u1UBuspT2U0lE/hUsk45yPau+Q0\n",
       "gyyIQ3HdGdF8owoRTi055GwqWCVV83fC83bFQ2Qr1gfBfIW4VqhLhZm6AXU3Zy7iFMaKL/5KBUAc\n",
       "wwajGzlELuiv6OxhGIPt3oi9PTOVHrUPSCUcCTCxjUH8DvinrSRwcCK44opiF0avPE379BGSENwp\n",
       "D1kSHyYr9t/RMbw9lmVwA/6BPZKgq18+gJivP/WDkdu0P2lojjq66a8kWF5ngsTPh2jCtv7+z/QK\n",
       "cyHrcB5UA4nwCgLT+uQMV1ip3rCI0z21WQXrUCVM2KqBcU484xSEXwks9z93mswfJU0gCjcdqncq\n",
       "KAybgz4UCXU4LzMvHkYvaTqYrczmp/jT7NeQcovRdMX3BfkAAAEYAZ7GakN/Bzp2+QAB2lyXcZru\n",
       "IPhSwIzt4izduJ/7mOcu3Dm2aTS5W89Li+XSzmhQNe35hTFXqoYJskV6UdPVUSQsXUBWK9vTOE8E\n",
       "4L9kO6f8we9DiFWC7iy4TKJ0MpsbDX/PyOWiyqVniFNykEZhKNBmUKjuwVv+oMHjofPw9JHOXmly\n",
       "r++c8tGN9ujrHkxybm1BE4mkFjJqP7ZtibXmf1ubOmeYrY1y1CNVSHWyeUPhmCs07J2/+XCsAD0E\n",
       "qEnvTVsHOv5FcDOkzj0nuHMonVZVejkjNSIgZnv7CVYvnf/MEoho9QE5Zsbl9qysuHgX1PGZpcT5\n",
       "fIz3j/CjUnt5nbvQ0Sabf6ZtIZTO4OfcRNEOnufgX72+EQAAAkxBmshJ4Q8mUwII//61K8FswAAW\n",
       "qRrDNHOQ+MMpMDnKIEMpyxGoK+vYXCW8FsdBlSarkn2sD+9mFu8gHmXJEChNGSxfy15QhPzEebSn\n",
       "1mRl/9WEt9tUvkSOaBmAnRh3fpXwHpQyEnwoEsWtv1LvbnmEDy6Aze8jdfa1KZv51ccdXvZ733Zy\n",
       "0Jfdlp/SLqcaXWZ12TM2eaZmSwWHEanxB9XdyR+VFpRqw2X58JifXSlXNIg3l9WOrml0qtwe1o1a\n",
       "DNMq3XQdsW1EDDEqZBtMZ6ZfIUjLpUnQiIg/Sd6FqtocsVtRkG/GVtFlJ2no0XAzDfjXfL+6j4yj\n",
       "ao8rgSYe55GYtV+fD/8xIJuY6fXlxOQXNdBUv1+nRNDZ7q+C4yn3XEdpyUd5A5TpB9msw+mnqG6l\n",
       "c/mhwQGG79zAe5SOS4mNyVv73hbIKav27/mPq3bJZJxlO9TxVpFxvw+seYUFLC6Ez/ILG/Ggjo+n\n",
       "HN8H3zRLd3zlvepTWC/xqSvM9epiwRCm6Kgu3//tWNKPdClpqjjbbfmc81baYc6S2VXy0Hf1YuKi\n",
       "bOglVC7hJlulq2zl8wn0nb2Ks7fcQYY7K9bDSLpzdmxX+PdRX9qK8T98vGi60YjTwYjvWyBs1iKk\n",
       "6iFjsm8lwsfJzshXUEHgA0BBeTezMMATqYi8sTtJODKUBZLqdTsiubzhka3xhe5XpI+7Hf/BpVjM\n",
       "vpb5Wpmi2P4I/NiE9k+kLynooC31Z1xtl+djnlHMY+jJtgOl11uqtFcCOn2JGdw1mgiWBEOcDZgA\n",
       "AAPlQZrsSeEPJlMCCH/+qld+1ouKyWBe1gRKAC6UUQBGueEEvtUG0PsqCBgyQBvqO+eXCzXGLkTg\n",
       "cGWbdeJRtJ2N/jtvqTC++WyFfmAeVeWZvPyLJvRrPbatgTNYHqUF8VZ8AA708Aj2XbUEhpNVdLKq\n",
       "+BdyRuifp+EB56edeLrRc4MedI2///tG7XkI1VvSnK2WosPG4rUgSt08MjQU6XLaqW2izrpO6p7d\n",
       "gnzQpt0Yk2wRAJY2drr8qOmvHwqF94BnZZwQEgb8ba/ao7HKuyzUuhlcuVLul4tDAVe1ZPJfH6Z+\n",
       "1rMCheY4hOmqdutlTsfZ5pZh1X05RLUPT9vw9JdXdahk/nxas2uqvdRFGfUtuLGcXPk/i0IC6aV/\n",
       "FLScOt782I9Fve9k3gCX7jIvl78W2QHNqbVrrOR1Smsg9j5ZBSz0wqBvXHODxFBAVIzFGrKLqiA7\n",
       "4gBWC8epijChHZtlMd8AWaxS2Iq19Mr4wOh+Y8f87UmLxwHEYtvAwsZEQakoVNn0IUvrpE3nfUQR\n",
       "gIgeRmxCfORA2bQEL8CwW1FcY7RWgfN2mhcFYFJB7Yh1XyfA1j3OurJAAkzwKRfFLNdZNMfvjzO3\n",
       "2xATlKlFhTjffQAyHM4pI98WyRTRseH1YrcHXT4gCjtQlqbbKD64kw3Q9K72rRAbJSX5sDm0tPX+\n",
       "CvevSAaaxcCEXEhwqIvASjHlKPrCR83whYNTzjDnyW7mA7zHYXTspMKQoaFl6b1Nbwj/bZDJ4Nwt\n",
       "MUHJvScXB3G5bLBC5i6Bq+wZ0Ls6lMdjf3EVej9MyqYQUw6dnRHRUYhqxpWrUFHC7nBs44rrmdpt\n",
       "dT27acPVitBwgFUmoR1dGCAqsdrryUJD+945JMHUuF/HcEeAKKDgt3VXGpmWHDOIn1ptFrORKeK5\n",
       "CxxBhEMk5M5VmXqpbGsdqUxgPP4gtvb5FyIRnq9rv8BVcE98pZgRC0FNiM8eL6hJ4Hf/+WWrdgtM\n",
       "AbyPeGX+xCUfNjfGfAbPkRjBD/IsygYpFFSVdYDHSEF69y3VP/wNGKKLTwvnHqbP3KSvUBCQ9Bzw\n",
       "smld1vKuC6V7H45sUrxkJ5/7axXmlOS4W8HZPVUCpV8ig9lV9zF9s5rtuBL+CS8jwZu0MWLJgZYN\n",
       "6zmgRnvE4zGYwrUr8aKR86MPLYVsPdUTSZwpshLgogEueYe6t5xSYKLUZXXRRf9p9p8VZJNiJwIT\n",
       "OZXNpMIk5jHzc3o7SSOmXCuNJsjAK9bAP7AAHI2VrEFZECf0sJFjYcALw5N0C4Lwp72Efo0Qd8mW\n",
       "mgveEfVMw0816LpA4ocv2VO1CeZRYXoSrKy5HEGeBAAAAXlBnwpFETw7/wUaZ06IzM0miqABr1NZ\n",
       "LeWOKKDp9l023aSvaOoa/M8+7HuYbBzMUhkc6lz6+TcYFjzxWQiFdt57d6slCHMnC4wrSiXhaLVP\n",
       "AAgZ3e92OnC6KYak9deIkqJbM/9/9oyq+XLUX19UK+AiUqaQHOHTBcsHYB0q8h1IAYf4b+K+JuVE\n",
       "/kKoI4TPIZOM4v6h31tXau2d6Z2EbX4CDav7DFsxyKizdnSNRiFu93ItSN5DE8A5AxefxNuFuKAQ\n",
       "UcfpHSLGlfxfv0EAh0gr4L9LHcpHppXqKaBCJuQsP7qKJqmaqfLyUJUl1Vylq38Qy81pcphK1B/M\n",
       "AICmdAVwr8SmJ/OVawZ28Rh24GPTEQQvJ1AUNU8O2dad7xJPqhv06Ph35A/Kb6ncZeLswVQAJiZ2\n",
       "j6iyWp8Q5CuV6v3mVh+Ka7PTH2A6qyZo4+9RS7PtUUu8kr39mUSNriVReFql4Dsmm4CCXvjqaMve\n",
       "nHHKNP5VNGQfP3kYvQAAAN0Bnyl0Q38HSmtEAB1xfKetxg0DJoa8HbaB3uwMkhW7A6Yyk8VRkv90\n",
       "32/+BcaP5JXDXcsFEzJrAZ2JThDOOTfPB8sRjSf/KpokCyiNuI4VJJoca+3fqzqF4rTzcMVviKJc\n",
       "GMyt01rQVIFoeuZwA4oTINfqMdwrl5cmaievw2SBfzCnnhtfsdv2IEy5xy9SYPwtI+cwvN0Y2ZZy\n",
       "2T4bkisjiAC06WYSVoSDXXK7MkhqYZviYbo+5+pQaKfIYoMwkQSJUMgnkr8lzWrVnOrBmPuYTKMP\n",
       "5NYgTRfsu0ii8AAAAOgBnytqQ38GrSR6M2684gA1s4+10fVjykMvseBYWYaTC37uSdrT6RTgkdlG\n",
       "MjvGROWpwieInSSlwIuk0/PZH1Wm0wstGvYnYpsBQ1ZhxcwlP/BsG4odM5f2SOs0Gjw//C1Aby/J\n",
       "LqlsU1pRX1cnzm30JMoeNzWL8D5udQJvIPhv4lFi6lOMYr6icYwJJwYKGaWpBY/9ZI+36yceeCEb\n",
       "TANO0mG6NiSDxL3FVi+PviBZdCv5hEMuWen6p58tjEV2TEYP7Wxz9VD0s/rIJfKC+hFJL2MlBbe7\n",
       "OOeyfDC4hsWccKBPhlsldivAAAADBEGbL0moQWiZTAgh//6qV4UMwAD+kUyz7sIPLqN8XMHda0bX\n",
       "+LTDPzVyaPt9+uMMcRHUJ7WyGeDw+36Ba7fqlLs1OTHL3SusZNzOyenIIwzbNtrFlT2w2Wj4eMfk\n",
       "UMICYsj/aLbHrzkAKyr3T+9q5OYgN9zlttGAfRivWtY5nQM7jLqaOTzRCl8LEH5LnMC4HCo4PjpJ\n",
       "8fCLtZlgllmeabmstmdEYx/v4n8+E468cgm74YetLo4KKS+NdH/UQ6kyU3Lo3WbNKURP5gAP5t53\n",
       "Sp2I423I++mOJYQ3DQPfBR3CrCWAFTe9CBKycSBnQTrWMsPYpL15YdN3nIrGVQVS+Oeo/O6/IjD1\n",
       "YEyv/VHY7yyheumxJqZQWYfJyPEvG9+1Lj6IqsLDcwwaKwWbWQ2dY/d1vdnen/zEFzkIQ/EpwUuD\n",
       "ofwdTRQwExVDaKw0JWOO6PuY7DZzLXavQr6ySh9tRsI5G5tm5Tp3z6yU5tBsvecV4gaRiN8e3UZF\n",
       "PKFIvVihtOtb6dl9aTd0KxWwVDklrUptd3Dan1cGHlSlCT+UsnEyUR67p/L/LxEOSIzrqNOLxIcc\n",
       "SPbQiHHnx8iz+rMb8zR3f2P/YVsNRwDHoMjPkyiYxPg8uWdCmhx0ERbFxGTeaKEE1R7MAbETahqL\n",
       "m6a0fXHfiMzGiNHiqFG6qKcOd+mxpihRyacYwnt200hRY9BYUj7R5N/GgcfU4SIsc1vt8vay/01D\n",
       "KIQGKcYm1b7Ospch2A5u/gfGmE5USkXZJhdeATUynbd4lM2w1B43PT+04Tubg0Pc57Yh4BVsSZ/g\n",
       "FoDP/5jTa1VmlKgvHdZf4TLAQJWJAK9purWCnGlHUBvJldJEIfGBjeHK9qTpIx3Bg/V2x2Mf2GIH\n",
       "5yWMD40+nTPsfpD53RGUt+ViyfRdxqYR5uDTL45Shfxbyw9rBAXI7w9OAfs1UFmpo/twO6fplF+S\n",
       "WaM0UxxRkyIF6e+0E+yXavFWTpws5Xcez4/1GffMSN5g/niT5BUFkodDSpbrhIWWnoNyTpkAAADd\n",
       "QZ9NRREsN/8Gtd3JAAJ2sol4pJUTietvUZnYxHaWOQUlAF9p6TVy12ynK1TuqYIS/KEAQy825G3D\n",
       "H4EpgMEsHdv0KLalAnsWFRkwP4uSkGZJQVEypMYB3tQlLhDvWMPibMIwBXKgflh3FM+7nMjYS2mA\n",
       "SchPzjHKYXElV/b93q46XHbAS3o5aTt3fSobHJShpWqAMAEb7af3jzbwfq0eeCBWkBMzZTM5e3nB\n",
       "085SwqF19L6X9GHXlq2UmdX5sR4vcQAVW37uPijtNdv0+vRq1FnyCtlt6q/UeIR5xy8AAAEGAZ9u\n",
       "akN/BrrbDMJAAhvy7qui618/kzEjjMVSzDvBAtVgGuL3Drtr3O6bVRJVOU17Ns9t3V3KTmV3qxkf\n",
       "iBIrFNgMJo4gx0e0sQ0NIfL5JogGIdhq4OUu6WT3foQh8Cj204QC3jSxjICzL7DPXhexBz74hFpZ\n",
       "oK9i0DEShAC+1iVdaQpNVxhEeOC0MJoYljkm68O1tKcwYbfsLpuaEaH+0msbB3ZDqnbRYk7WPOvV\n",
       "mLZDB1KJNqDpQ9DuYwEqOL842z0lHWSvYH8asDXE0CGcUH5T+XDsdCrq5OgAAAi3TOtop7KSITWL\n",
       "rC1YSyXtJjAO69HR6sYAAEJCApa24phI5L3Q1Ugu6QAAAiJBm3BJqEFsmUwII//+tSvUCs48ABfX\n",
       "0o2qZbO0zRHPcMHv5nkdpLXo+Q6TSUX50r8cTEhGeNXPUwHZUgvlbGJs6nRbGy71cB2R+SXlJcaw\n",
       "4RmlYAj4E4+A3iQAACbmZnYuSotC1vaYNE8slsnPs+L5c3XwraEuiDEU1mKcv9FrO4ek4jI93UmS\n",
       "wjFMGl2bWBsGHFnMBZuD01L1ECr5tkxcpJa7gmc8P7YZbhhQMsF2cZ7URK3jrLoEoZZqNf5h8joU\n",
       "PC3qnAP+giZXatDhZvMc7hTCVGG/5qy3Qg6H/KgjaoM0ZxrRGzt7qm4qIXgOvq9fnz/osvjUweB0\n",
       "ld65flXjaaFw7iP7f9mkSG7/SXKNZ4nGKZqA2u7j07HdBACvAtYjLC6psINr2nN0m/wsE59VEo9S\n",
       "mvx8tP1CEPvV/nWaTPzGPnTN54G/c/N9DqkuoArH05E5hSVlUkOuxW834z9HCu+NqcdRQ8K2RZv0\n",
       "D2+cS2EfQ4ODqq3+SqgHwVNLlr5KGah91Q61rBFu2CRlHyFHy2Q9aejyk74tK6VaFERvpMMATDp/\n",
       "moORaeCu/6pV9rzOcCUROMC4UAKf66YKAnbUFCCtsCgFF0GAUqxfONDYGbVsFxYEeJZJAYULSgY3\n",
       "C4YnrrmTrZxyTRVr9hJVzSUVcOA6Qyzsuhcnvxz7sSZSGRraZkpWHY7zWQNsoSU/5ccAXJ83xoYH\n",
       "QnvqEFcuF5i5JzgAAAOEQZuUSeEKUmUwIIf//qpX10TxuMl4mBGAE1nXJUY+ylZgYRVNcpiWchML\n",
       "7YjpkrGKoj05Nlv1qoqWHAcj5w0LJyyIhp2tZt6yo+D40qkIbN6AEManbWkyM/tzCLXQ5adh6omO\n",
       "xf56mSmtqIg9Q3W1ERxdBZllectStBW/sDU+xhgF1V3x4U9jAeqDtYBIHhB3OHX5LN3vXI57rdyw\n",
       "zrScBp2IoSq2dQVNr6lAZi9cS84wDcfc5TJviavZX/hl3cp6JUSXPJcctP0WPYnh7wrrdKONKFnX\n",
       "soZgDmPlu/doETdp1BPiw1QaTZgvdEjtfHxWGr6XbsmcQ/i/sIgqKPb6Yppbqt9rY6raCTQUUVX8\n",
       "JKG6wUI3tGmWn7ftvhzu/rQCIZJdknx43JUn3FlO7TbAoRD+IE0PPAjamg35SJ9yWjdOQlwtjxx3\n",
       "NVp+jWQ9LbgYMyDRWZKMZU/HfxZ6DcorNa1HDqGoKzAtaplDqaGxmT60+3mZZCW0f/064VwVfXKW\n",
       "6N3QJLK3vasGehCFa/1URrbN0Y6i+VCKNptUQdN96qOI7lRrfE/4eRHRkr8b9Zn97mGHtG4O7pJH\n",
       "j/GGTimrmfyPZm45zobAoyk78eYXdzs/9ntqkNneLO+4mczeqB9oWYmBmdymoeSxFUZsYz/JXUya\n",
       "k4nLon+6/OiZptd2St+5XaAlyoq61+4liE86pIU9+WBOXU5Ele6JwtnqMV5JvVmBv5tPT8ReczcA\n",
       "HZZuYUiPcCTqMAEGtoPvgzw5sezEhsPOwFbpa6C3y2k5hzrPDadDMmFJV6nHOpY45rTAmNx5WwT1\n",
       "rK1lIa+2HPVBS07l71BtcOZBUT9El2p5tC9Pp4F6NtwZvnwbrOErwZLiSV0lhgUIHsGapurXU0J5\n",
       "7bVkj+hq/jDNBC/np5x7uRSmOMRlyTloW/1Qx+KWgOElj7cx3a+zCXvjKAuAsrPJ0MDvkeBAQs2R\n",
       "zbp/7oG/IuwQaGUrYiO+7+TlmnySTiuzofPm4JASgHcY14SaQNtEO9RL/F5xG+q83uQYiurIwCnA\n",
       "DciDcgcSc+e6GJnxHWR+lzprrqX8l6Vd3o90rgREYPTsJ3C37N5YtNNQJKl7pboSn7mmdrxxbtuy\n",
       "4cH4ZpJYwFEf+7WeOcKq6dUTsBkRyHN1URcGOKe+4cf5VAiyujg/ujVs/2KqmSIlQSjmMCygIWEN\n",
       "7IPQAAABUUGfskU0TDv/BYiOlT0AD+gejfpw6XIJZpigu9BBd4TEsSQ8Bzf/8SF+pk9gCowkPGWS\n",
       "9um/bi5DNpouUeGhHBvFqNrA9n9NCg76jrC4NzK6D9OX6b3pvMEl50XPL+SGaNlvFSTInAcr2/rL\n",
       "lqyu/FDGpxFFKNRpSMGaSk+5OciueTTgzS7CDKyC7nQU52w8GNF0HVQnnPZpoLMa6X9SxYJRl1lF\n",
       "q5lGHPNTciyFFf/6YqwvjuEddbZ1SYI6JhYlOn9vkLnN/GeCOECBwB7rOOH+6EjfrlqZOvS0In0M\n",
       "K9EXamH433LAPCtH61MD71zlKp3FaSQrHRBWgk008ZM6HfQy7Abf5DBs1jfb+++Szv1CFDk1KwZN\n",
       "Zm4e4Jx7w+rMTvQF7EQIR/7LU1b4e8oJoSVOG8+Nc/2iuLjY5PylhjINSaC9BDDmXtby1pHo4nJY\n",
       "NxEAAAD5AZ/RdEN/BqzhppdUKtAAIgjLMr6iYfnQmMisbbosYExt32JYupn3r3lFolFqt7RB4gbJ\n",
       "z2w8JHdQi81euo+e+ytMOrxtblUqAbx6qVGPODCirL+oIgSItQ+4qHcZNy0O3pzJxdiwOJYQKRN4\n",
       "eo1sKCFIfIXWoIBWN3c6x/SvTAGkuz8Tv5etjRfDmvtDUWUwawTlju5dptpRv7MXeq7X+YmJp6xa\n",
       "RUc+ejQleWhkOsteRsjLQmUK+2+eXx9oAAADAAB1k58R+OBv3heAh0WIsRBz41PF1UsQM/kpB0zV\n",
       "6WPfMvU9FhgXLpUxCov6ImxesUR5eZdgRg2AAAAA6wGf02pDfwal2925IJRAAhurNbP/d6K7sELr\n",
       "gnopqoISMt3PSNB4zH9GKd2bHKDSJvE1hsLoXxc8xvnpzzrI6Jv3LPiyxppj2DwTukeBZAZMSeCr\n",
       "fUrVUlrQzXCRBacMx4Uzui5Z/1mciPej4fTBIfO4a4hMsELqBO8+wGK2UcpL3BAsB3cxQuAqJCUe\n",
       "ejKLEMJyrHxGNeXq6TiSSIc4GM2SwDdukRiNmRpCBWjZrci4pY+pFm92PSnzt1Sy9yxlCSsk5Ol6\n",
       "1W1g/JM2sbkWPtpQAqHB9CAqn3FjzzYHUCDVpurlGV2p/4L3eWAAAAKSQZvWSahBaJlMFPD//qmc\n",
       "W+xgBLV2V54RR3ed0z6fZJlbRdDJXINDtUuHoDXHSSspRUyoc4P4Np6tN/jWsg05TVQ91MvPdyig\n",
       "hJnO3+AMaV3kzELAv6tfAgtujS7UE7f3qewGBE0HSdH1O2wIln3cTi7/F4Q19RZFVYQ5e3xyzvOh\n",
       "wPRXsO9oXeK6rx2ZvWEtIc30nGz47JYcQMXh0pqYoWtqs+c2WXIoUlONRST4uBspBXsaXZvv7ssf\n",
       "rVQHjQYY2MBhm38TWawRrvBlARXQv/3Enfv74o2glkywiMkLrksP6RqYLRlAN9y6Axd7V64xPj42\n",
       "3jNYfRF44n6omcNy3jtA93AB7TtzdI2KKhhDt16JIbiF0ZsJBk4QwXIVb6GZjh/zLQZ1bnMlaI3n\n",
       "tCNS6OMjyFvbEHMDYa1I22hNmEXPJVA38rBFNeKOMCebkOVgvgNqTKDnozLWf9p/jM48hlU4yvD1\n",
       "klLyWLaenSuxpohnumuuhbO/BHGSbAKespSJuTrb4e6Xy2zxZD+nGwSgprFZR94Msvl7K9iGd1cS\n",
       "RluONnuVnb6fYdc3n9ecomni4VzR+YHXEgeJIJ3jJmDuAnIBgQOWVbr/Nwq1UGjshw91vQj4tg30\n",
       "5lqOzIdEUcgk+4JA24X0wz+uXLX0Ry28c3X7p5Z1h0KIdVTBJdcys1TUn6rVsUEomdK+0vvM6D13\n",
       "REcgmMDUDa49XOs/T/brdX94133i+VOlJpmP9VToS8AEp6plWMlJtdfPU7coNx+qWUAhfMVA4vTk\n",
       "wxanUUPep/ZjkIS7aKzbJRsRtmj5/0qi/FmnSCBQtrdtxRuhLri0GlSa0r6qVIsBvzJgXzevIhSj\n",
       "OwqRtwBt0bLe1LkzO7YymQAAAUYBn/VqQ38GrOCOOHEAGyRtgUmhRLLSyQwSPqotvu7aMY7/Eg6x\n",
       "kTR3pLrtV7uCH4YpUX+vX5HfaDCcpC1fNGkdLz0z3C1n6fNMxBuPz7ndgen6sDN6vpkXPtBmMq37\n",
       "ouHPFKohNTKmESUnHS2e/LlVl0xSlunMrrl3Su4wtemwR1fT9+bICkcZnDZG6dc9V5kIke890XNS\n",
       "IefqlMuQ2GYpBx4n6DFwohDd05JaWehBm+bQIbvdh/YREt34TyJOCHQ3xzEJItHE6FCYrePzDskt\n",
       "mzG+OkZMv3MxuZbQGGwu4vQg3s2lDA1CX0oTT+xexJK2WZNjnZaIyPlOKjr67u9FG11G8xc+sK6A\n",
       "ZGEZK2j38f8hDStFtAFKWHoskkfZpW6zlvvyFfhmEG1oYC5n1PiG7DOZDyjHlzOM9MsBheYSg+Kp\n",
       "mxmggAAAAgZBm/dJ4QpSZTAgh//+qleFDMAA/pAcgdFXdBHDl1P1sUPsmm+rfGKPcDYnYvCPMMRX\n",
       "8RdU1hgbYCSzQyto0+V3xKnDZGDZBHLllfafQv9Z5zkZa7fqfkVNujK8hKog7TtQxlH5ggbNQCtW\n",
       "AofYxEd+Gr9LylQyhGNpFt7K7juworNKg/o/39UIHv6GJeykQLwQDPP/OEYQHc3hhTJQKWled+9y\n",
       "P4LwMhzWKS6fMB7gsAWwPDyvPXxaQHPRyAJakMZdks0uIv/nvRpZfQsNoyqepiMs89b2R+u/uVyj\n",
       "4WJyTSvBI49Np0nxFrt1VDFGQh4ZQ5OK/d9BirWOy9WnY2zpN4IhQXmrcRs0PUHSasj1kdt/VAx9\n",
       "Rg3ttDRRvA2hqs3xeVPjn7Trz0nRV2W7P8boxjmWX1yZGNdIRRq2YH5rZRaT/1lfmDmkVDusCrG8\n",
       "iXpJ7QlU2ONecBBoT9trOHErYb5Md6APu7CRFmOIKU/qLANR5qKy8D7vegNe2KXJaCTp4glKGq58\n",
       "71JpkDVtz5sUu4FNkENeql8kNh40LH8rEXzwY3knqoog6CsFL+/ik//zymTXLfeqtr/XTnrvYBhp\n",
       "u+XtyrXw+YgA5EriwLp5gOpcg5xaYZofhz8nfHk04ZQ0lXSbvX8EpbKkvO2kHOyGbi6Rv7jxHI2A\n",
       "UmoAkyOoeL/qhF0EMQAAAn1BmhlJ4Q6JlMFNEw///qmcW+xgA/oNHU3XxwDAXTKqJFy0IDqm3zrF\n",
       "xay2eFjoiQZAnd+bIE4OkDbAMh1FJZRE266OCkh0OpNYyV1uZmeRDtL6lnpnI6SV9RaOZsmxAq0z\n",
       "J9YwOQ4PdsWgRdR8/Yp+gVL7SDrmzJtldhfJdPYP3nmSSpGnyZFUPIRBjjxKi5g2h3ALlGSLp2Tb\n",
       "l0z/zx+HZc64l8mIjqf1aOJjD1g4lianGU+NLYGApypujZtXzsBNKxQ6d5nnBH/1RIeFdLbOcYxk\n",
       "w1Ph8KQy84zMs77buKDKZU22R8u0H0DU0wQqM6nec6RE62/fpUpq44WmoS4sVpeDcf52Kf/jZs7R\n",
       "7g6a2kMaKzhcRAFukZk/Wt7yJDoe//64Ci+pxqtO+Ctz36iYbhbT7eF/XZ39hJs+EA4J39Z7TAu2\n",
       "yo06avXuFlczQBbDx3q8iPzE8sg+7OugtA5OAFf7noxVINW9vKoKdudUNvc5viFxj20IeSMiE8xi\n",
       "8p1CZDr+uuCKotjrT2tiW13v0rlaPro67UBGMTY/V1lAxxbX3Uy9Okeqiv3pdSfWvfgtwnWi4gHy\n",
       "tnOaCzigpWtj1ENEV/bx2AfSGebxOy8mw5kPs1bCGx/LlSWgAWGExBCSU2mWv5HzpwmKB+rgO1yO\n",
       "V8pn7AAADaM7NQUNotrTez8JSl1LM7UQfoMvUOWB2lrUqjGbccUY58B9P2UWXutImtA06SKwLMtR\n",
       "/j1i8I3FFOBBY0YxsyqPMLlv8/VBbSOoFzF1bpUqjo8yTFSFUp5BYjeWN7+ZgDzavV3I7ozEFrxb\n",
       "u5SIi3k1VHgOIEZQKlVhxhNGnfqQXxdUVeHhAAABHwGeOGpDfwdDVvACFPeZy7Si6EmpnXxSoAJk\n",
       "DhwqBdpD93AkXGtPVzdGP8dbenBZYUbSKwRubVsUMgVUg/7XMyqMrW18exwtEHUq/rk9tLgPoSyD\n",
       "hqEhuxeBPh/1cDwoGha91QIwZ8pQdPJS1T96ZI9XBgmZv9//w9FyzX/IWCEHG3X7qff9x/6vgVH5\n",
       "GgtUCAEKXlLTBncJhvoj0sAAADMWVmihdkDX/UbaJo1V4lGILVuxH7yscioiEoN0R3De3kyP47Z+\n",
       "Tn6fq0jIaBRMT7NbrV+wD7on3NiwqKTfJhlnpxsmD0ZFx93CQHbME1xMU0yQqcP7KBFS785JaZKb\n",
       "lIPwRm3BcHjhdLdi3QQBe3N2S9xenQk0Oj+URqizIyW8AAACOEGaO0nhDyZTBTw///6pnGcCNABE\n",
       "EnIwsaMky/zVWVdelY6TbY7+0LIjjo7/tP1UURbXCsRsbbJH7pt9jSo0j5RnDa00QInc1RUgHpgl\n",
       "b6APLkrZfGBd2MxdifKx5AJqGdASew3YbJuyMrmYR7l/xXWG6tQjZanFSpU/HdJ3SQLHn7wEmdT2\n",
       "FvbWFYbqgsuAQ21/wGm5oqW0JHnsQfV/l+nR/CdpLDCpZoTjOcTrPXdNzEj5AVvmh2ZPLNEG4W/k\n",
       "7cjwLw/E4c16jkJ4oqpEl0HhaX3kY8VAJO/0PZWchq3FtrCv2A8aZaeyIMZpCwgrGPDydHHOu5K5\n",
       "f/1ysniuw2n6peqGwCQAKwJgoKsVE1fUUJQORU3hKVHJp1dIVKoirRmM2lfcoS/0IWfsex87jKD0\n",
       "ayw8wlnFXpEKWoU7g4pnya58MSEb41wdMyQudb+QGQ+SjLyc11I7qukSoexvx0akZEuB38+3jREL\n",
       "pSfFtOf0+LYmJpDn+Eft+LivwyqO0S1+HDHr/86wAQ1IqAneCh9KAdKrVRsJ0zhTH+/yQIv33dmF\n",
       "IB1Z4ALo78H7ZXeY+LHZTWxMSor0Z9bSV9zsFa4CsKDo9ufGVuGpTnD+dD+GB4snwF4cYRYav/1s\n",
       "w8yDw22dIBtUtGsXWIn+aJG69PZXiebrDcejXGbEMgAby6vgYvXWr+tJfIimO8MarBaaddnFK8rS\n",
       "hfp+P5YAob6p2yTU4T/wab66RQkt3tOcJjmDl13D+aCvcK0AAAD2AZ5aakN/B3HRACFNbS9Mg4sr\n",
       "83LeaUhVkzlBG32vEIi4kyIxha5ozXPAy9C9khbyvuLBJ+QYWzBOEEN9ddrV8YO6ue5TYzlYkcKM\n",
       "VRi8A0jYdhLSBB5ttvvI0w3Rz6WModUhYLAbkxDT4Okhod0cXLopOauaCRGYyJZ/s97pZSfXBTuQ\n",
       "Ny4UPLYePjbl+pGuqhO70o+TcJ4fGohbJEFFx2ggmWhqUDvYpP9ISaNKPRauN4jvdI1/WuZ+NQJt\n",
       "00l24Ieka4j1bBTy4wCF7VWIgd/SKuWMdsVBQqmpPNjAJHwG1BAoRbVIW7zroeFui2813hgP51NA\n",
       "AAABk0GaXUnhDyZTBTw3//6njzy7yAARB7vnzJS+dy6j8UlFGMX9/iaHxCmeBihwESGsY9ERsPwV\n",
       "c+regoBeUSMbugrfyzouecehIYUNfg97ziGcxljbZmgTw6ta/AywpmXZuBefxGQMOnTrk2y8nGOj\n",
       "y1dnPS3ieLTVW6YmaW0ol/b8iT/XCYeKlUHFCfEfNzIBYvmNIEXkMYMd2JXnQI9qgD886i5uHZ8E\n",
       "SlBbJaZ+ZlRDTFpEIBv1CDesE+HI5eGz4f5d/iYA08fY/YytPF3S+NKgwqFKlI10NSgtPTFO70Ck\n",
       "IYwX2Z9pVzC5fN6MWHbkVd6oUORcBiEg1U3LLH+kxEy2ESXNhAgjfb08yUEF88H+oTHClOYtIPf7\n",
       "nfDJ3aZHX6ybtQ35IOO+DaGFUzPE8+zqG4xhxp6AzWn+gEctIuZuhKIIF0ohot5N8qLzNYRmUJk8\n",
       "SG+okPtkQNkAAA4GRtzrQ8Q4cbYlAymr5zQyCLsg3gO9xDNQgCujxuZiDSZb027RRZA73iZGgQ66\n",
       "FLLtRJxvYtEAAAEKAZ58akN/BxpmwJAAhj1bWi+L7bOpuVvbpmRNRiBpKLlILm1xq88nl+Ycsxy8\n",
       "BzXym4Rn9J9d0VrSO1SPCiLqK9A8s1i9JnUDSWGYzNIVf1/TIsCkaqcbj6SJh9vL/nP25Kmeib41\n",
       "0lrpo5laW6ytRT/tpLTucSD/JhltfpSNbD0TapCOV47+0YWcy4UitIOqmHJjOD2+LGATwvGLcrXd\n",
       "3KJ203kZNh+EJrNkpWgCt6xrQYmvbNi/BBkyVaHYI/e5JhplfO8B+n/QrKOyNwyEp7kMFz8/mJMT\n",
       "L5xNr6/qze6CwOQxKOZldMDKeb7S2TMyfVW3ka/0Mmr/30YXfojBVQUwUqOPpNTO2PkAAAR+bW9v\n",
       "dgAAAGxtdmhkAAAAAAAAAAAAAAAAAAAD6AAAC7gAAQAAAQAAAAAAAAAAAAAAAAEAAAAAAAAAAAAA\n",
       "AAAAAAABAAAAAAAAAAAAAAAAAABAAAAAAAAAAAAAAAAAAAAAAAAAAAAAAAAAAAAAAAAAAgAAA6h0\n",
       "cmFrAAAAXHRraGQAAAADAAAAAAAAAAAAAAABAAAAAAAAC7gAAAAAAAAAAAAAAAAAAAAAAAEAAAAA\n",
       "AAAAAAAAAAAAAAABAAAAAAAAAAAAAAAAAABAAAAAAbAAAAEgAAAAAAAkZWR0cwAAABxlbHN0AAAA\n",
       "AAAAAAEAAAu4AAAIAAABAAAAAAMgbWRpYQAAACBtZGhkAAAAAAAAAAAAAAAAAAAoAAAAeABVxAAA\n",
       "AAAALWhkbHIAAAAAAAAAAHZpZGUAAAAAAAAAAAAAAABWaWRlb0hhbmRsZXIAAAACy21pbmYAAAAU\n",
       "dm1oZAAAAAEAAAAAAAAAAAAAACRkaW5mAAAAHGRyZWYAAAAAAAAAAQAAAAx1cmwgAAAAAQAAAotz\n",
       "dGJsAAAAs3N0c2QAAAAAAAAAAQAAAKNhdmMxAAAAAAAAAAEAAAAAAAAAAAAAAAAAAAAAAbABIABI\n",
       "AAAASAAAAAAAAAABAAAAAAAAAAAAAAAAAAAAAAAAAAAAAAAAAAAAAAAAAAAAGP//AAAAMWF2Y0MB\n",
       "ZAAV/+EAGGdkABWs2UGwloQAAAMABAAAAwBQPFi2WAEABmjr48siwAAAABx1dWlka2hA8l8kT8W6\n",
       "OaUbzwMj8wAAAAAAAAAYc3R0cwAAAAAAAAABAAAAHgAABAAAAAAUc3RzcwAAAAAAAAABAAAAAQAA\n",
       "AOhjdHRzAAAAAAAAABsAAAABAAAIAAAAAAEAAAwAAAAAAQAABAAAAAADAAAIAAAAAAEAAAwAAAAA\n",
       "AQAABAAAAAABAAAIAAAAAAEAABQAAAAAAQAACAAAAAABAAAAAAAAAAEAAAQAAAAAAQAAEAAAAAAC\n",
       "AAAEAAAAAAEAAAgAAAAAAQAAFAAAAAABAAAIAAAAAAEAAAAAAAAAAQAABAAAAAABAAAMAAAAAAEA\n",
       "AAQAAAAAAQAACAAAAAABAAAMAAAAAAEAAAQAAAAAAQAADAAAAAABAAAEAAAAAAEAAAwAAAAAAQAA\n",
       "BAAAAAAcc3RzYwAAAAAAAAABAAAAAQAAAB4AAAABAAAAjHN0c3oAAAAAAAAAAAAAAB4AABlBAAAD\n",
       "rgAAAVQAAAJcAAACXQAAAhgAAAK+AAABHAAAAlAAAAPpAAABfQAAAOEAAADsAAADCAAAAOEAAAEK\n",
       "AAACJgAAA4gAAAFVAAAA/QAAAO8AAAKWAAABSgAAAgoAAAKBAAABIwAAAjwAAAD6AAABlwAAAQ4A\n",
       "AAAUc3RjbwAAAAAAAAABAAAALAAAAGJ1ZHRhAAAAWm1ldGEAAAAAAAAAIWhkbHIAAAAAAAAAAG1k\n",
       "aXJhcHBsAAAAAAAAAAAAAAAALWlsc3QAAAAlqXRvbwAAAB1kYXRhAAAAAQAAAABMYXZmNTguMTIu\n",
       "MTAw\n",
       "\">\n",
       "  Your browser does not support the video tag.\n",
       "</video>"
      ],
      "text/plain": [
       "<IPython.core.display.HTML object>"
      ]
     },
     "execution_count": 35,
     "metadata": {},
     "output_type": "execute_result"
    }
   ],
   "source": [
    "# Create an animation of the traffic density.\n",
    "anim = animation.FuncAnimation(fig, update_plot,\n",
    "                               frames=nt, fargs=(rho_hist,),\n",
    "                               interval=100)\n",
    "# Display the video.\n",
    "HTML(anim.to_html5_video())"
   ]
  },
  {
   "cell_type": "markdown",
   "metadata": {},
   "source": [
    "That definitely looks different!  Do you think this is more or less accurate than our previous model?"
   ]
  },
  {
   "cell_type": "markdown",
   "metadata": {},
   "source": [
    "##### Dig Deeper"
   ]
  },
  {
   "cell_type": "markdown",
   "metadata": {},
   "source": [
    "The new traffic-flux model that we developed here changes the way that traffic patterns evolve. In this lesson, we only experimented with the most basic scheme: forward-time, backward-space.  Try to implement the green-light problem using one of the second-order schemes from [Lesson 2](https://nbviewer.jupyter.org/github/numerical-mooc/numerical-mooc/blob/master/lessons/03_wave/03_02_convectionSchemes.ipynb)."
   ]
  },
  {
   "cell_type": "markdown",
   "metadata": {},
   "source": [
    "## References"
   ]
  },
  {
   "cell_type": "markdown",
   "metadata": {},
   "source": [
    "* Neville D. Fowkes and John J. Mahony, *\"An Introduction to Mathematical Modelling,\"* Wiley & Sons, 1994. Chapter 14: Traffic Flow."
   ]
  },
  {
   "cell_type": "markdown",
   "metadata": {},
   "source": [
    "---\n",
    "\n",
    "###### The cell below loads the style of the notebook."
   ]
  },
  {
   "cell_type": "code",
   "execution_count": 36,
   "metadata": {},
   "outputs": [
    {
     "data": {
      "text/html": [
       "<link href='http://fonts.googleapis.com/css?family=Alegreya+Sans:100,300,400,500,700,800,900,100italic,300italic,400italic,500italic,700italic,800italic,900italic' rel='stylesheet' type='text/css'>\n",
       "<link href='http://fonts.googleapis.com/css?family=Arvo:400,700,400italic' rel='stylesheet' type='text/css'>\n",
       "<link href='http://fonts.googleapis.com/css?family=PT+Mono' rel='stylesheet' type='text/css'>\n",
       "<link href='http://fonts.googleapis.com/css?family=Shadows+Into+Light' rel='stylesheet' type='text/css'>\n",
       "<link href='http://fonts.googleapis.com/css?family=Nixie+One' rel='stylesheet' type='text/css'>\n",
       "<link href='https://fonts.googleapis.com/css?family=Source+Code+Pro' rel='stylesheet' type='text/css'>\n",
       "<style>\n",
       "\n",
       "@font-face {\n",
       "    font-family: \"Computer Modern\";\n",
       "    src: url('http://mirrors.ctan.org/fonts/cm-unicode/fonts/otf/cmunss.otf');\n",
       "}\n",
       "\n",
       "#notebook_panel { /* main background */\n",
       "    background: rgb(245,245,245);\n",
       "}\n",
       "\n",
       "div.cell { /* set cell width */\n",
       "    width: 750px;\n",
       "}\n",
       "\n",
       "div #notebook { /* centre the content */\n",
       "    background: #fff; /* white background for content */\n",
       "    width: 1000px;\n",
       "    margin: auto;\n",
       "    padding-left: 0em;\n",
       "}\n",
       "\n",
       "#notebook li { /* More space between bullet points */\n",
       "    margin-top:0.8em;\n",
       "}\n",
       "\n",
       "/* draw border around running cells */\n",
       "div.cell.border-box-sizing.code_cell.running { \n",
       "    border: 1px solid #111;\n",
       "}\n",
       "\n",
       "/* Put a solid color box around each cell and its output, visually linking them*/\n",
       "div.cell.code_cell {\n",
       "    background-color: rgb(256,256,256); \n",
       "    border-radius: 0px; \n",
       "    padding: 0.5em;\n",
       "    margin-left:1em;\n",
       "    margin-top: 1em;\n",
       "}\n",
       "\n",
       "div.text_cell_render{\n",
       "    font-family: 'Alegreya Sans' sans-serif;\n",
       "    line-height: 140%;\n",
       "    font-size: 125%;\n",
       "    font-weight: 400;\n",
       "    width:600px;\n",
       "    margin-left:auto;\n",
       "    margin-right:auto;\n",
       "}\n",
       "\n",
       "\n",
       "/* Formatting for header cells */\n",
       ".text_cell_render h1 {\n",
       "    font-family: 'Nixie One', serif;\n",
       "    font-style:regular;\n",
       "    font-weight: 400;    \n",
       "    font-size: 45pt;\n",
       "    line-height: 100%;\n",
       "    color: rgb(0,51,102);\n",
       "    margin-bottom: 0.5em;\n",
       "    margin-top: 0.5em;\n",
       "    display: block;\n",
       "}\n",
       "\n",
       ".text_cell_render h2 {\n",
       "    font-family: 'Nixie One', serif;\n",
       "    font-weight: 400;\n",
       "    font-size: 30pt;\n",
       "    line-height: 100%;\n",
       "    color: rgb(0,51,102);\n",
       "    margin-bottom: 0.1em;\n",
       "    margin-top: 0.3em;\n",
       "    display: block;\n",
       "}\t\n",
       "\n",
       ".text_cell_render h3 {\n",
       "    font-family: 'Nixie One', serif;\n",
       "    margin-top:16px;\n",
       "    font-size: 22pt;\n",
       "    font-weight: 600;\n",
       "    margin-bottom: 3px;\n",
       "    font-style: regular;\n",
       "    color: rgb(102,102,0);\n",
       "}\n",
       "\n",
       ".text_cell_render h4 {    /*Use this for captions*/\n",
       "    font-family: 'Nixie One', serif;\n",
       "    font-size: 14pt;\n",
       "    text-align: center;\n",
       "    margin-top: 0em;\n",
       "    margin-bottom: 2em;\n",
       "    font-style: regular;\n",
       "}\n",
       "\n",
       ".text_cell_render h5 {  /*Use this for small titles*/\n",
       "    font-family: 'Nixie One', sans-serif;\n",
       "    font-weight: 400;\n",
       "    font-size: 16pt;\n",
       "    color: rgb(163,0,0);\n",
       "    font-style: italic;\n",
       "    margin-bottom: .1em;\n",
       "    margin-top: 0.8em;\n",
       "    display: block;\n",
       "}\n",
       "\n",
       ".text_cell_render h6 { /*use this for copyright note*/\n",
       "    font-family: 'PT Mono', sans-serif;\n",
       "    font-weight: 300;\n",
       "    font-size: 9pt;\n",
       "    line-height: 100%;\n",
       "    color: grey;\n",
       "    margin-bottom: 1px;\n",
       "    margin-top: 1px;\n",
       "}\n",
       "\n",
       ".CodeMirror{\n",
       "    font-family: \"Source Code Pro\";\n",
       "    font-size: 90%;\n",
       "}\n",
       "\n",
       ".alert-box {\n",
       "    padding:10px 10px 10px 36px;\n",
       "    margin:5px;\n",
       "}\n",
       "\n",
       ".success {\n",
       "    color:#666600;\n",
       "    background:rgb(240,242,229);\n",
       "}\n",
       "</style>\n",
       "\n",
       "<script>\n",
       "    MathJax.Hub.Config({\n",
       "                        TeX: {\n",
       "                            extensions: [\"AMSmath.js\"],\n",
       "                            equationNumbers: { autoNumber: \"AMS\", useLabelIds: true}\n",
       "                            },\n",
       "                        tex2jax: {\n",
       "                            inlineMath: [ ['$','$'], [\"\\\\(\",\"\\\\)\"] ],\n",
       "                            displayMath: [ ['$$','$$'], [\"\\\\[\",\"\\\\]\"] ]\n",
       "                            },\n",
       "                        displayAlign: 'center', // Change this to 'center' to center equations.\n",
       "                        \"HTML-CSS\": {\n",
       "                            styles: {'.MathJax_Display': {\"margin\": 4}}\n",
       "                            }\n",
       "                        });\n",
       "    MathJax.Hub.Queue(\n",
       "                      [\"resetEquationNumbers\", MathJax.InputJax.TeX],\n",
       "                      [\"PreProcess\", MathJax.Hub],\n",
       "                      [\"Reprocess\", MathJax.Hub]\n",
       "                     );\n",
       "</script>\n"
      ],
      "text/plain": [
       "<IPython.core.display.HTML object>"
      ]
     },
     "execution_count": 36,
     "metadata": {},
     "output_type": "execute_result"
    }
   ],
   "source": [
    "from IPython.core.display import HTML\n",
    "css_file = '../../styles/numericalmoocstyle.css'\n",
    "HTML(open(css_file, 'r').read())"
   ]
  }
 ],
 "metadata": {
  "kernelspec": {
   "display_name": "Python 3 (MOOC)",
   "language": "python",
   "name": "py36-mooc"
  },
  "language_info": {
   "codemirror_mode": {
    "name": "ipython",
    "version": 3
   },
   "file_extension": ".py",
   "mimetype": "text/x-python",
   "name": "python",
   "nbconvert_exporter": "python",
   "pygments_lexer": "ipython3",
   "version": "3.6.5"
  }
 },
 "nbformat": 4,
 "nbformat_minor": 1
}
